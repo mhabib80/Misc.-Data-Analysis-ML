{
  "nbformat": 4,
  "nbformat_minor": 0,
  "metadata": {
    "colab": {
      "name": "Digits_KMeans.ipynb",
      "provenance": [],
      "collapsed_sections": [],
      "authorship_tag": "ABX9TyPDaXcpaYxMAMQknH/sN6V8",
      "include_colab_link": true
    },
    "kernelspec": {
      "name": "python3",
      "display_name": "Python 3"
    }
  },
  "cells": [
    {
      "cell_type": "markdown",
      "metadata": {
        "id": "view-in-github",
        "colab_type": "text"
      },
      "source": [
        "<a href=\"https://colab.research.google.com/github/mhabib80/Sample-Projects/blob/master/Digits_KMeans.ipynb\" target=\"_parent\"><img src=\"https://colab.research.google.com/assets/colab-badge.svg\" alt=\"Open In Colab\"/></a>"
      ]
    },
    {
      "cell_type": "code",
      "metadata": {
        "id": "4lW4RgvY2fjX"
      },
      "source": [
        "import matplotlib.pyplot as plt\n",
        "import pandas as pd\n",
        "import numpy as np\n",
        "from sklearn import datasets"
      ],
      "execution_count": 1,
      "outputs": []
    },
    {
      "cell_type": "code",
      "metadata": {
        "id": "Od7BZNOxYFQe"
      },
      "source": [
        "digits = datasets.load_digits()"
      ],
      "execution_count": 2,
      "outputs": []
    },
    {
      "cell_type": "code",
      "metadata": {
        "id": "eevRrcQoiv2B",
        "colab": {
          "base_uri": "https://localhost:8080/"
        },
        "outputId": "4ea29c8e-8736-4ccd-c375-5ca167e05bfa"
      },
      "source": [
        "dir(digits)"
      ],
      "execution_count": 3,
      "outputs": [
        {
          "output_type": "execute_result",
          "data": {
            "text/plain": [
              "['DESCR', 'data', 'images', 'target', 'target_names']"
            ]
          },
          "metadata": {
            "tags": []
          },
          "execution_count": 3
        }
      ]
    },
    {
      "cell_type": "code",
      "metadata": {
        "id": "x1iV95AXi90w",
        "colab": {
          "base_uri": "https://localhost:8080/"
        },
        "outputId": "5527e2e6-d91a-4a65-fc63-a77f87da1d49"
      },
      "source": [
        "print(digits.DESCR)"
      ],
      "execution_count": 4,
      "outputs": [
        {
          "output_type": "stream",
          "text": [
            ".. _digits_dataset:\n",
            "\n",
            "Optical recognition of handwritten digits dataset\n",
            "--------------------------------------------------\n",
            "\n",
            "**Data Set Characteristics:**\n",
            "\n",
            "    :Number of Instances: 5620\n",
            "    :Number of Attributes: 64\n",
            "    :Attribute Information: 8x8 image of integer pixels in the range 0..16.\n",
            "    :Missing Attribute Values: None\n",
            "    :Creator: E. Alpaydin (alpaydin '@' boun.edu.tr)\n",
            "    :Date: July; 1998\n",
            "\n",
            "This is a copy of the test set of the UCI ML hand-written digits datasets\n",
            "https://archive.ics.uci.edu/ml/datasets/Optical+Recognition+of+Handwritten+Digits\n",
            "\n",
            "The data set contains images of hand-written digits: 10 classes where\n",
            "each class refers to a digit.\n",
            "\n",
            "Preprocessing programs made available by NIST were used to extract\n",
            "normalized bitmaps of handwritten digits from a preprinted form. From a\n",
            "total of 43 people, 30 contributed to the training set and different 13\n",
            "to the test set. 32x32 bitmaps are divided into nonoverlapping blocks of\n",
            "4x4 and the number of on pixels are counted in each block. This generates\n",
            "an input matrix of 8x8 where each element is an integer in the range\n",
            "0..16. This reduces dimensionality and gives invariance to small\n",
            "distortions.\n",
            "\n",
            "For info on NIST preprocessing routines, see M. D. Garris, J. L. Blue, G.\n",
            "T. Candela, D. L. Dimmick, J. Geist, P. J. Grother, S. A. Janet, and C.\n",
            "L. Wilson, NIST Form-Based Handprint Recognition System, NISTIR 5469,\n",
            "1994.\n",
            "\n",
            ".. topic:: References\n",
            "\n",
            "  - C. Kaynak (1995) Methods of Combining Multiple Classifiers and Their\n",
            "    Applications to Handwritten Digit Recognition, MSc Thesis, Institute of\n",
            "    Graduate Studies in Science and Engineering, Bogazici University.\n",
            "  - E. Alpaydin, C. Kaynak (1998) Cascading Classifiers, Kybernetika.\n",
            "  - Ken Tang and Ponnuthurai N. Suganthan and Xi Yao and A. Kai Qin.\n",
            "    Linear dimensionalityreduction using relevance weighted LDA. School of\n",
            "    Electrical and Electronic Engineering Nanyang Technological University.\n",
            "    2005.\n",
            "  - Claudio Gentile. A New Approximate Maximal Margin Classification\n",
            "    Algorithm. NIPS. 2000.\n"
          ],
          "name": "stdout"
        }
      ]
    },
    {
      "cell_type": "code",
      "metadata": {
        "id": "wGbnAYnhh7pb",
        "colab": {
          "base_uri": "https://localhost:8080/"
        },
        "outputId": "02bcfcf9-7e76-4af1-e4fa-4c80043ab497"
      },
      "source": [
        "digits.data"
      ],
      "execution_count": 5,
      "outputs": [
        {
          "output_type": "execute_result",
          "data": {
            "text/plain": [
              "array([[ 0.,  0.,  5., ...,  0.,  0.,  0.],\n",
              "       [ 0.,  0.,  0., ..., 10.,  0.,  0.],\n",
              "       [ 0.,  0.,  0., ..., 16.,  9.,  0.],\n",
              "       ...,\n",
              "       [ 0.,  0.,  1., ...,  6.,  0.,  0.],\n",
              "       [ 0.,  0.,  2., ..., 12.,  0.,  0.],\n",
              "       [ 0.,  0., 10., ..., 12.,  1.,  0.]])"
            ]
          },
          "metadata": {
            "tags": []
          },
          "execution_count": 5
        }
      ]
    },
    {
      "cell_type": "code",
      "metadata": {
        "id": "5HEWVjX4_fiq",
        "colab": {
          "base_uri": "https://localhost:8080/"
        },
        "outputId": "1af6f343-3bda-472b-f01d-98c4eb707299"
      },
      "source": [
        "digits.data.shape"
      ],
      "execution_count": 6,
      "outputs": [
        {
          "output_type": "execute_result",
          "data": {
            "text/plain": [
              "(1797, 64)"
            ]
          },
          "metadata": {
            "tags": []
          },
          "execution_count": 6
        }
      ]
    },
    {
      "cell_type": "code",
      "metadata": {
        "id": "WS2M-Npcip9i",
        "colab": {
          "base_uri": "https://localhost:8080/"
        },
        "outputId": "4d11fb1b-afd5-457b-e9ab-cec1542a336e"
      },
      "source": [
        "digits.images"
      ],
      "execution_count": 7,
      "outputs": [
        {
          "output_type": "execute_result",
          "data": {
            "text/plain": [
              "array([[[ 0.,  0.,  5., ...,  1.,  0.,  0.],\n",
              "        [ 0.,  0., 13., ..., 15.,  5.,  0.],\n",
              "        [ 0.,  3., 15., ..., 11.,  8.,  0.],\n",
              "        ...,\n",
              "        [ 0.,  4., 11., ..., 12.,  7.,  0.],\n",
              "        [ 0.,  2., 14., ..., 12.,  0.,  0.],\n",
              "        [ 0.,  0.,  6., ...,  0.,  0.,  0.]],\n",
              "\n",
              "       [[ 0.,  0.,  0., ...,  5.,  0.,  0.],\n",
              "        [ 0.,  0.,  0., ...,  9.,  0.,  0.],\n",
              "        [ 0.,  0.,  3., ...,  6.,  0.,  0.],\n",
              "        ...,\n",
              "        [ 0.,  0.,  1., ...,  6.,  0.,  0.],\n",
              "        [ 0.,  0.,  1., ...,  6.,  0.,  0.],\n",
              "        [ 0.,  0.,  0., ..., 10.,  0.,  0.]],\n",
              "\n",
              "       [[ 0.,  0.,  0., ..., 12.,  0.,  0.],\n",
              "        [ 0.,  0.,  3., ..., 14.,  0.,  0.],\n",
              "        [ 0.,  0.,  8., ..., 16.,  0.,  0.],\n",
              "        ...,\n",
              "        [ 0.,  9., 16., ...,  0.,  0.,  0.],\n",
              "        [ 0.,  3., 13., ..., 11.,  5.,  0.],\n",
              "        [ 0.,  0.,  0., ..., 16.,  9.,  0.]],\n",
              "\n",
              "       ...,\n",
              "\n",
              "       [[ 0.,  0.,  1., ...,  1.,  0.,  0.],\n",
              "        [ 0.,  0., 13., ...,  2.,  1.,  0.],\n",
              "        [ 0.,  0., 16., ..., 16.,  5.,  0.],\n",
              "        ...,\n",
              "        [ 0.,  0., 16., ..., 15.,  0.,  0.],\n",
              "        [ 0.,  0., 15., ..., 16.,  0.,  0.],\n",
              "        [ 0.,  0.,  2., ...,  6.,  0.,  0.]],\n",
              "\n",
              "       [[ 0.,  0.,  2., ...,  0.,  0.,  0.],\n",
              "        [ 0.,  0., 14., ..., 15.,  1.,  0.],\n",
              "        [ 0.,  4., 16., ..., 16.,  7.,  0.],\n",
              "        ...,\n",
              "        [ 0.,  0.,  0., ..., 16.,  2.,  0.],\n",
              "        [ 0.,  0.,  4., ..., 16.,  2.,  0.],\n",
              "        [ 0.,  0.,  5., ..., 12.,  0.,  0.]],\n",
              "\n",
              "       [[ 0.,  0., 10., ...,  1.,  0.,  0.],\n",
              "        [ 0.,  2., 16., ...,  1.,  0.,  0.],\n",
              "        [ 0.,  0., 15., ..., 15.,  0.,  0.],\n",
              "        ...,\n",
              "        [ 0.,  4., 16., ..., 16.,  6.,  0.],\n",
              "        [ 0.,  8., 16., ..., 16.,  8.,  0.],\n",
              "        [ 0.,  1.,  8., ..., 12.,  1.,  0.]]])"
            ]
          },
          "metadata": {
            "tags": []
          },
          "execution_count": 7
        }
      ]
    },
    {
      "cell_type": "code",
      "metadata": {
        "id": "OmBIaril_igC",
        "colab": {
          "base_uri": "https://localhost:8080/"
        },
        "outputId": "2fde14dc-d397-4d1f-c4ca-a6ed5008fb16"
      },
      "source": [
        "digits.images.shape"
      ],
      "execution_count": 8,
      "outputs": [
        {
          "output_type": "execute_result",
          "data": {
            "text/plain": [
              "(1797, 8, 8)"
            ]
          },
          "metadata": {
            "tags": []
          },
          "execution_count": 8
        }
      ]
    },
    {
      "cell_type": "code",
      "metadata": {
        "id": "BWLQb2Tai8S_",
        "colab": {
          "base_uri": "https://localhost:8080/"
        },
        "outputId": "b8aac03d-5e4c-407c-d37c-9ee9dff8758f"
      },
      "source": [
        "digits.target"
      ],
      "execution_count": 9,
      "outputs": [
        {
          "output_type": "execute_result",
          "data": {
            "text/plain": [
              "array([0, 1, 2, ..., 8, 9, 8])"
            ]
          },
          "metadata": {
            "tags": []
          },
          "execution_count": 9
        }
      ]
    },
    {
      "cell_type": "code",
      "metadata": {
        "id": "FKl4kI9V6i5m",
        "colab": {
          "base_uri": "https://localhost:8080/"
        },
        "outputId": "ca92905d-dc49-4f71-8396-cd6d95270723"
      },
      "source": [
        "digits.target_names"
      ],
      "execution_count": 10,
      "outputs": [
        {
          "output_type": "execute_result",
          "data": {
            "text/plain": [
              "array([0, 1, 2, 3, 4, 5, 6, 7, 8, 9])"
            ]
          },
          "metadata": {
            "tags": []
          },
          "execution_count": 10
        }
      ]
    },
    {
      "cell_type": "code",
      "metadata": {
        "id": "8MWJAoXk7xU3",
        "colab": {
          "base_uri": "https://localhost:8080/",
          "height": 264
        },
        "outputId": "2e8d4f5f-7a5e-4810-8699-36f9984b9c16"
      },
      "source": [
        "plt.gray()\n",
        "plt.imshow(digits.images[100]);"
      ],
      "execution_count": 12,
      "outputs": [
        {
          "output_type": "display_data",
          "data": {
            "image/png": "[encoded data removed]",
            "text/plain": [
              "<Figure size 432x288 with 1 Axes>"
            ]
          },
          "metadata": {
            "tags": [],
            "needs_background": "light"
          }
        }
      ]
    },
    {
      "cell_type": "code",
      "metadata": {
        "id": "dbWOV2Pc8EWw",
        "colab": {
          "base_uri": "https://localhost:8080/"
        },
        "outputId": "607ce34c-ee6d-41a5-dd2e-840ea3e8aea0"
      },
      "source": [
        "digits.images[100]"
      ],
      "execution_count": 13,
      "outputs": [
        {
          "output_type": "execute_result",
          "data": {
            "text/plain": [
              "array([[ 0.,  0.,  0.,  2., 13.,  0.,  0.,  0.],\n",
              "       [ 0.,  0.,  0.,  8., 15.,  0.,  0.,  0.],\n",
              "       [ 0.,  0.,  5., 16.,  5.,  2.,  0.,  0.],\n",
              "       [ 0.,  0., 15., 12.,  1., 16.,  4.,  0.],\n",
              "       [ 0.,  4., 16.,  2.,  9., 16.,  8.,  0.],\n",
              "       [ 0.,  0., 10., 14., 16., 16.,  4.,  0.],\n",
              "       [ 0.,  0.,  0.,  0., 13.,  8.,  0.,  0.],\n",
              "       [ 0.,  0.,  0.,  0., 13.,  6.,  0.,  0.]])"
            ]
          },
          "metadata": {
            "tags": []
          },
          "execution_count": 13
        }
      ]
    },
    {
      "cell_type": "code",
      "metadata": {
        "id": "vQi-2fPt8NWx",
        "colab": {
          "base_uri": "https://localhost:8080/"
        },
        "outputId": "3dd03233-6fec-469c-ff34-ee4dbed6374e"
      },
      "source": [
        "from sklearn.cluster import KMeans\n",
        "model = KMeans(n_clusters=10, random_state=42)\n",
        "model.fit(digits.data)"
      ],
      "execution_count": 14,
      "outputs": [
        {
          "output_type": "execute_result",
          "data": {
            "text/plain": [
              "KMeans(algorithm='auto', copy_x=True, init='k-means++', max_iter=300,\n",
              "       n_clusters=10, n_init=10, n_jobs=None, precompute_distances='auto',\n",
              "       random_state=42, tol=0.0001, verbose=0)"
            ]
          },
          "metadata": {
            "tags": []
          },
          "execution_count": 14
        }
      ]
    },
    {
      "cell_type": "code",
      "metadata": {
        "id": "q1I4WpjOA1bi",
        "colab": {
          "base_uri": "https://localhost:8080/"
        },
        "outputId": "8d86b790-b5ba-4ce1-b22b-201afdafad7a"
      },
      "source": [
        "model.labels_"
      ],
      "execution_count": 15,
      "outputs": [
        {
          "output_type": "execute_result",
          "data": {
            "text/plain": [
              "array([1, 2, 2, ..., 2, 4, 4], dtype=int32)"
            ]
          },
          "metadata": {
            "tags": []
          },
          "execution_count": 15
        }
      ]
    },
    {
      "cell_type": "code",
      "metadata": {
        "id": "3AgKm64YA1eu",
        "colab": {
          "base_uri": "https://localhost:8080/"
        },
        "outputId": "ddd3d6b8-10c4-4ade-db5e-e19b34503488"
      },
      "source": [
        "model.cluster_centers_[0]"
      ],
      "execution_count": 16,
      "outputs": [
        {
          "output_type": "execute_result",
          "data": {
            "text/plain": [
              "array([ 0.00000000e+00,  5.96590909e-01,  8.71590909e+00,  1.46306818e+01,\n",
              "        1.40454545e+01,  7.00568182e+00,  5.45454545e-01, -2.77555756e-16,\n",
              "        1.13636364e-02,  4.20454545e+00,  1.26022727e+01,  9.07386364e+00,\n",
              "        1.12386364e+01,  1.19602273e+01,  1.84659091e+00,  1.13636364e-02,\n",
              "        5.68181818e-03,  1.85795455e+00,  3.53977273e+00,  3.47159091e+00,\n",
              "        1.17897727e+01,  9.92613636e+00,  8.57954545e-01,  6.93889390e-17,\n",
              "       -2.81892565e-18,  3.97727273e-02,  9.09090909e-01,  8.30681818e+00,\n",
              "        1.38295455e+01,  6.76704545e+00,  3.06818182e-01, -5.63785130e-18,\n",
              "        0.00000000e+00,  6.25000000e-02,  6.81818182e-01,  4.60227273e+00,\n",
              "        1.17613636e+01,  1.23125000e+01,  2.32954545e+00,  0.00000000e+00,\n",
              "       -2.25514052e-17,  4.54545455e-01,  1.44318182e+00,  6.93181818e-01,\n",
              "        4.17613636e+00,  1.23693182e+01,  6.36363636e+00,  5.68181818e-03,\n",
              "       -2.34187669e-17,  9.26136364e-01,  7.28409091e+00,  6.59090909e+00,\n",
              "        8.59659091e+00,  1.37215909e+01,  6.09090909e+00,  1.76136364e-01,\n",
              "       -1.40946282e-18,  4.77272727e-01,  9.52840909e+00,  1.49829545e+01,\n",
              "        1.41420455e+01,  8.88068182e+00,  1.85227273e+00,  4.20454545e-01])"
            ]
          },
          "metadata": {
            "tags": []
          },
          "execution_count": 16
        }
      ]
    },
    {
      "cell_type": "code",
      "metadata": {
        "id": "FgTsWXfn_vSb",
        "colab": {
          "base_uri": "https://localhost:8080/",
          "height": 233
        },
        "outputId": "31d78df1-3b88-4c7c-8864-018074944560"
      },
      "source": [
        "fig = plt.figure(figsize=(8,3))\n",
        "fig.suptitle('Cluster Center Images')\n",
        "for i in range(10):\n",
        "  ax = fig.add_subplot(2,5,1+i)\n",
        "  ax.imshow(model.cluster_centers_[i].reshape(8,8), cmap=plt.cm.binary) #The cluster centers should be a list with 64 values (0-16). Here, we are making each of the cluster centers into an 8x8 2D array"
      ],
      "execution_count": 17,
      "outputs": [
        {
          "output_type": "display_data",
          "data": {
            "image/png": "[encoded data removed]",
            "text/plain": [
              "<Figure size 576x216 with 10 Axes>"
            ]
          },
          "metadata": {
            "tags": [],
            "needs_background": "light"
          }
        }
      ]
    },
    {
      "cell_type": "code",
      "metadata": {
        "id": "nevZiCPvNCOg"
      },
      "source": [
        "new_sample = [\n",
        "[0.00,0.00,0.00,0.00,0.53,0.00,0.00,0.00,0.00,0.00,0.00,2.58,7.47,0.45,0.00,0.00,0.00,0.00,0.00,3.04,7.62,0.98,0.00,0.00,0.00,0.00,0.00,1.44,7.62,2.81,0.00,0.00,0.00,0.00,0.00,0.76,7.62,3.05,0.00,0.00,0.00,0.00,0.00,0.00,7.62,3.81,0.00,0.00,0.00,0.00,0.00,0.00,7.31,4.34,0.00,0.00,0.00,0.00,0.00,0.00,4.72,3.50,0.00,0.00],\n",
        "[0.00,0.00,0.00,0.00,0.00,0.00,0.00,0.00,0.00,0.00,0.00,3.80,4.57,4.50,1.97,0.00,0.00,0.00,0.00,6.86,7.23,6.85,7.46,0.45,0.00,0.00,0.00,5.32,7.24,6.17,7.62,0.76,0.00,0.44,5.24,7.62,7.62,7.23,4.56,0.00,0.00,3.65,7.62,3.87,6.23,7.62,4.17,0.00,0.00,4.56,7.16,1.82,2.05,6.85,6.09,0.00,0.00,2.27,7.39,7.62,7.62,7.54,3.87,0.00],\n",
        "[0.00,0.00,0.00,0.00,0.00,0.00,0.00,0.00,0.00,0.00,0.37,5.02,6.71,6.86,4.41,0.00,0.00,0.15,5.85,7.54,4.72,4.04,2.89,0.00,0.00,2.20,7.62,3.95,0.08,0.00,0.00,0.00,0.00,6.16,7.62,7.62,6.31,0.83,0.00,0.00,0.45,7.54,4.11,3.65,7.62,3.04,0.00,0.00,0.76,7.62,5.33,3.88,7.62,2.89,0.00,0.00,0.15,5.85,7.16,7.62,6.08,0.53,0.00,0.00],\n",
        "[0.00,0.38,0.76,1.06,1.52,1.52,1.52,1.06,0.00,6.24,7.62,7.62,7.62,7.62,7.62,7.16,0.00,1.44,2.29,2.28,1.60,5.15,7.62,3.49,0.00,0.00,0.00,0.00,2.04,7.54,5.15,0.00,0.00,0.00,0.00,2.88,6.93,7.62,1.21,0.00,0.00,0.00,0.00,3.19,7.61,4.71,0.08,0.00,0.00,0.00,0.00,5.03,7.32,0.53,0.00,0.00,0.00,0.00,0.00,6.25,4.71,0.00,0.00,0.00]\n",
        "]"
      ],
      "execution_count": 18,
      "outputs": []
    },
    {
      "cell_type": "code",
      "metadata": {
        "id": "B4nWTsHlNJ_r",
        "colab": {
          "base_uri": "https://localhost:8080/"
        },
        "outputId": "3e3b9b18-0c44-4082-bf7d-1a2dc66a7e86"
      },
      "source": [
        "model.predict(new_sample)"
      ],
      "execution_count": 19,
      "outputs": [
        {
          "output_type": "execute_result",
          "data": {
            "text/plain": [
              "array([3, 4, 6, 7], dtype=int32)"
            ]
          },
          "metadata": {
            "tags": []
          },
          "execution_count": 19
        }
      ]
    }
  ]
}
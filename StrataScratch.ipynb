{
  "nbformat": 4,
  "nbformat_minor": 0,
  "metadata": {
    "colab": {
      "name": "StrataScratch.ipynb",
      "provenance": [],
      "toc_visible": true,
      "mount_file_id": "1Nn5lyjdhLIFAKRHJ3YbegRNM56INtYvy",
      "authorship_tag": "ABX9TyNO+DJk6U5ILqez/0RyJgY3",
      "include_colab_link": true
    },
    "kernelspec": {
      "name": "python3",
      "display_name": "Python 3"
    },
    "language_info": {
      "name": "python"
    }
  },
  "cells": [
    {
      "cell_type": "markdown",
      "metadata": {
        "id": "view-in-github",
        "colab_type": "text"
      },
      "source": [
        "<a href=\"https://colab.research.google.com/github/mhabib80/Sample-Projects/blob/master/StrataScratch.ipynb\" target=\"_parent\"><img src=\"https://colab.research.google.com/assets/colab-badge.svg\" alt=\"Open In Colab\"/></a>"
      ]
    },
    {
      "cell_type": "markdown",
      "metadata": {
        "id": "w8_znrjAN4b9"
      },
      "source": [
        ""
      ]
    },
    {
      "cell_type": "code",
      "metadata": {
        "id": "rIwKgIkpBXsV",
        "colab": {
          "base_uri": "https://localhost:8080/"
        },
        "outputId": "b083b9d3-4cff-4a03-b45d-738fe0e1b824"
      },
      "source": [
        "import pandas as pd\n",
        "import numpy as np\n",
        "import re\n",
        "from datetime import datetime as dt\n",
        "%cd '/content/drive/MyDrive/Data Science/Data Sets'"
      ],
      "execution_count": 1,
      "outputs": [
        {
          "output_type": "stream",
          "text": [
            "/content/drive/MyDrive/Data Science/Data Sets\n"
          ],
          "name": "stdout"
        }
      ]
    },
    {
      "cell_type": "markdown",
      "metadata": {
        "id": "CqXQKnmG6j5Q"
      },
      "source": [
        "# Counting Instances in Text"
      ]
    },
    {
      "cell_type": "markdown",
      "metadata": {
        "id": "jDvhJJtrsYDv"
      },
      "source": [
        "Find the number of times the words 'bull' and 'bear' occur in the contents."
      ]
    },
    {
      "cell_type": "code",
      "metadata": {
        "colab": {
          "base_uri": "https://localhost:8080/",
          "height": 141
        },
        "id": "bFZ-ngx0Bafz",
        "outputId": "f954201a-3b82-4f07-fb23-5821b87a7988"
      },
      "source": [
        "gf = pd.read_excel('Bull-Bear Text Search.xlsx')\n",
        "gf"
      ],
      "execution_count": null,
      "outputs": [
        {
          "output_type": "execute_result",
          "data": {
            "text/html": [
              "<div>\n",
              "<style scoped>\n",
              "    .dataframe tbody tr th:only-of-type {\n",
              "        vertical-align: middle;\n",
              "    }\n",
              "\n",
              "    .dataframe tbody tr th {\n",
              "        vertical-align: top;\n",
              "    }\n",
              "\n",
              "    .dataframe thead th {\n",
              "        text-align: right;\n",
              "    }\n",
              "</style>\n",
              "<table border=\"1\" class=\"dataframe\">\n",
              "  <thead>\n",
              "    <tr style=\"text-align: right;\">\n",
              "      <th></th>\n",
              "      <th>filename</th>\n",
              "      <th>contents</th>\n",
              "    </tr>\n",
              "  </thead>\n",
              "  <tbody>\n",
              "    <tr>\n",
              "      <th>0</th>\n",
              "      <td>draft1.txt</td>\n",
              "      <td>The stock exchange predicts a bull market whic...</td>\n",
              "    </tr>\n",
              "    <tr>\n",
              "      <th>1</th>\n",
              "      <td>draft2.txt</td>\n",
              "      <td>The stock exchange predicts a bull market whic...</td>\n",
              "    </tr>\n",
              "    <tr>\n",
              "      <th>2</th>\n",
              "      <td>final.txt</td>\n",
              "      <td>The stock exchange predicts a bull market whic...</td>\n",
              "    </tr>\n",
              "  </tbody>\n",
              "</table>\n",
              "</div>"
            ],
            "text/plain": [
              "     filename                                           contents\n",
              "0  draft1.txt  The stock exchange predicts a bull market whic...\n",
              "1  draft2.txt  The stock exchange predicts a bull market whic...\n",
              "2   final.txt  The stock exchange predicts a bull market whic..."
            ]
          },
          "metadata": {
            "tags": []
          },
          "execution_count": 11
        }
      ]
    },
    {
      "cell_type": "code",
      "metadata": {
        "colab": {
          "base_uri": "https://localhost:8080/",
          "height": 110
        },
        "id": "AGbjbog-Pup9",
        "outputId": "a9305ab5-e349-4ad5-89a5-0e25aea8c6aa"
      },
      "source": [
        "words = ['bull', 'bear']\n",
        "pd.DataFrame(zip(words, [gf.apply(lambda l:l['contents'].split().count(word), axis=1).sum() for word in words]), columns=['word', 'nentry'])"
      ],
      "execution_count": null,
      "outputs": [
        {
          "output_type": "execute_result",
          "data": {
            "text/html": [
              "<div>\n",
              "<style scoped>\n",
              "    .dataframe tbody tr th:only-of-type {\n",
              "        vertical-align: middle;\n",
              "    }\n",
              "\n",
              "    .dataframe tbody tr th {\n",
              "        vertical-align: top;\n",
              "    }\n",
              "\n",
              "    .dataframe thead th {\n",
              "        text-align: right;\n",
              "    }\n",
              "</style>\n",
              "<table border=\"1\" class=\"dataframe\">\n",
              "  <thead>\n",
              "    <tr style=\"text-align: right;\">\n",
              "      <th></th>\n",
              "      <th>word</th>\n",
              "      <th>nentry</th>\n",
              "    </tr>\n",
              "  </thead>\n",
              "  <tbody>\n",
              "    <tr>\n",
              "      <th>0</th>\n",
              "      <td>bull</td>\n",
              "      <td>3</td>\n",
              "    </tr>\n",
              "    <tr>\n",
              "      <th>1</th>\n",
              "      <td>bear</td>\n",
              "      <td>2</td>\n",
              "    </tr>\n",
              "  </tbody>\n",
              "</table>\n",
              "</div>"
            ],
            "text/plain": [
              "   word  nentry\n",
              "0  bull       3\n",
              "1  bear       2"
            ]
          },
          "metadata": {
            "tags": []
          },
          "execution_count": 12
        }
      ]
    },
    {
      "cell_type": "markdown",
      "metadata": {
        "id": "P913WOps6lVF"
      },
      "source": [
        "# Rank Variance Per Country"
      ]
    },
    {
      "cell_type": "markdown",
      "metadata": {
        "id": "obMM--DDymH6"
      },
      "source": [
        "Which countries have risen in the rankings based on the number of comments between Dec 2019 vs Jan 2020? "
      ]
    },
    {
      "cell_type": "code",
      "metadata": {
        "colab": {
          "base_uri": "https://localhost:8080/",
          "height": 202
        },
        "id": "F-YOgRH46l6y",
        "outputId": "f5db8fdb-9196-4dbf-e632-67420ace5fb5"
      },
      "source": [
        "fb_comments = pd.read_excel('FB-comments_Count.xlsx')\n",
        "fb_comments.head()"
      ],
      "execution_count": null,
      "outputs": [
        {
          "output_type": "execute_result",
          "data": {
            "text/html": [
              "<div>\n",
              "<style scoped>\n",
              "    .dataframe tbody tr th:only-of-type {\n",
              "        vertical-align: middle;\n",
              "    }\n",
              "\n",
              "    .dataframe tbody tr th {\n",
              "        vertical-align: top;\n",
              "    }\n",
              "\n",
              "    .dataframe thead th {\n",
              "        text-align: right;\n",
              "    }\n",
              "</style>\n",
              "<table border=\"1\" class=\"dataframe\">\n",
              "  <thead>\n",
              "    <tr style=\"text-align: right;\">\n",
              "      <th></th>\n",
              "      <th>user_id</th>\n",
              "      <th>created_at</th>\n",
              "      <th>number_of_comments</th>\n",
              "    </tr>\n",
              "  </thead>\n",
              "  <tbody>\n",
              "    <tr>\n",
              "      <th>0</th>\n",
              "      <td>18</td>\n",
              "      <td>2019-12-29</td>\n",
              "      <td>1</td>\n",
              "    </tr>\n",
              "    <tr>\n",
              "      <th>1</th>\n",
              "      <td>25</td>\n",
              "      <td>2019-12-21</td>\n",
              "      <td>1</td>\n",
              "    </tr>\n",
              "    <tr>\n",
              "      <th>2</th>\n",
              "      <td>78</td>\n",
              "      <td>2020-01-04</td>\n",
              "      <td>1</td>\n",
              "    </tr>\n",
              "    <tr>\n",
              "      <th>3</th>\n",
              "      <td>37</td>\n",
              "      <td>2020-02-01</td>\n",
              "      <td>1</td>\n",
              "    </tr>\n",
              "    <tr>\n",
              "      <th>4</th>\n",
              "      <td>41</td>\n",
              "      <td>2019-12-23</td>\n",
              "      <td>1</td>\n",
              "    </tr>\n",
              "  </tbody>\n",
              "</table>\n",
              "</div>"
            ],
            "text/plain": [
              "   user_id created_at  number_of_comments\n",
              "0       18 2019-12-29                   1\n",
              "1       25 2019-12-21                   1\n",
              "2       78 2020-01-04                   1\n",
              "3       37 2020-02-01                   1\n",
              "4       41 2019-12-23                   1"
            ]
          },
          "metadata": {
            "tags": []
          },
          "execution_count": 12
        }
      ]
    },
    {
      "cell_type": "code",
      "metadata": {
        "colab": {
          "base_uri": "https://localhost:8080/",
          "height": 202
        },
        "id": "87_xA90K2XVf",
        "outputId": "c81a9a58-b2dd-411b-c14d-77f91d9c1350"
      },
      "source": [
        "fb_users = pd.read_excel('FB-active_users.xlsx')\n",
        "fb_users.head()"
      ],
      "execution_count": null,
      "outputs": [
        {
          "output_type": "execute_result",
          "data": {
            "text/html": [
              "<div>\n",
              "<style scoped>\n",
              "    .dataframe tbody tr th:only-of-type {\n",
              "        vertical-align: middle;\n",
              "    }\n",
              "\n",
              "    .dataframe tbody tr th {\n",
              "        vertical-align: top;\n",
              "    }\n",
              "\n",
              "    .dataframe thead th {\n",
              "        text-align: right;\n",
              "    }\n",
              "</style>\n",
              "<table border=\"1\" class=\"dataframe\">\n",
              "  <thead>\n",
              "    <tr style=\"text-align: right;\">\n",
              "      <th></th>\n",
              "      <th>user_id</th>\n",
              "      <th>name</th>\n",
              "      <th>status</th>\n",
              "      <th>country</th>\n",
              "    </tr>\n",
              "  </thead>\n",
              "  <tbody>\n",
              "    <tr>\n",
              "      <th>0</th>\n",
              "      <td>33</td>\n",
              "      <td>Amanda Leon</td>\n",
              "      <td>open</td>\n",
              "      <td>Australia</td>\n",
              "    </tr>\n",
              "    <tr>\n",
              "      <th>1</th>\n",
              "      <td>27</td>\n",
              "      <td>Jessica Farrell</td>\n",
              "      <td>open</td>\n",
              "      <td>Luxembourg</td>\n",
              "    </tr>\n",
              "    <tr>\n",
              "      <th>2</th>\n",
              "      <td>18</td>\n",
              "      <td>Wanda Ramirez</td>\n",
              "      <td>open</td>\n",
              "      <td>USA</td>\n",
              "    </tr>\n",
              "    <tr>\n",
              "      <th>3</th>\n",
              "      <td>50</td>\n",
              "      <td>Samuel Miller</td>\n",
              "      <td>closed</td>\n",
              "      <td>Brazil</td>\n",
              "    </tr>\n",
              "    <tr>\n",
              "      <th>4</th>\n",
              "      <td>82</td>\n",
              "      <td>Jacob York</td>\n",
              "      <td>open</td>\n",
              "      <td>Australia</td>\n",
              "    </tr>\n",
              "  </tbody>\n",
              "</table>\n",
              "</div>"
            ],
            "text/plain": [
              "   user_id             name  status     country\n",
              "0       33      Amanda Leon    open   Australia\n",
              "1       27  Jessica Farrell    open  Luxembourg\n",
              "2       18    Wanda Ramirez    open         USA\n",
              "3       50    Samuel Miller  closed      Brazil\n",
              "4       82       Jacob York    open   Australia"
            ]
          },
          "metadata": {
            "tags": []
          },
          "execution_count": 21
        }
      ]
    },
    {
      "cell_type": "code",
      "metadata": {
        "colab": {
          "base_uri": "https://localhost:8080/",
          "height": 414
        },
        "id": "NWDJ9ecS_Z5D",
        "outputId": "3f8e730a-e590-46f0-d543-9a84c2c397b9"
      },
      "source": [
        "#merge the tables\n",
        "fb = fb_comments[fb_comments.created_at.dt.month.isin([1,12])].merge(fb_users[['user_id', 'country']], left_on='user_id', right_on='user_id')\n",
        "fb"
      ],
      "execution_count": null,
      "outputs": [
        {
          "output_type": "execute_result",
          "data": {
            "text/html": [
              "<div>\n",
              "<style scoped>\n",
              "    .dataframe tbody tr th:only-of-type {\n",
              "        vertical-align: middle;\n",
              "    }\n",
              "\n",
              "    .dataframe tbody tr th {\n",
              "        vertical-align: top;\n",
              "    }\n",
              "\n",
              "    .dataframe thead th {\n",
              "        text-align: right;\n",
              "    }\n",
              "</style>\n",
              "<table border=\"1\" class=\"dataframe\">\n",
              "  <thead>\n",
              "    <tr style=\"text-align: right;\">\n",
              "      <th></th>\n",
              "      <th>user_id</th>\n",
              "      <th>created_at</th>\n",
              "      <th>number_of_comments</th>\n",
              "      <th>country</th>\n",
              "    </tr>\n",
              "  </thead>\n",
              "  <tbody>\n",
              "    <tr>\n",
              "      <th>0</th>\n",
              "      <td>18</td>\n",
              "      <td>2019-12-29</td>\n",
              "      <td>1</td>\n",
              "      <td>USA</td>\n",
              "    </tr>\n",
              "    <tr>\n",
              "      <th>1</th>\n",
              "      <td>18</td>\n",
              "      <td>2020-01-31</td>\n",
              "      <td>1</td>\n",
              "      <td>USA</td>\n",
              "    </tr>\n",
              "    <tr>\n",
              "      <th>2</th>\n",
              "      <td>18</td>\n",
              "      <td>2019-12-17</td>\n",
              "      <td>1</td>\n",
              "      <td>USA</td>\n",
              "    </tr>\n",
              "    <tr>\n",
              "      <th>3</th>\n",
              "      <td>18</td>\n",
              "      <td>2019-12-30</td>\n",
              "      <td>1</td>\n",
              "      <td>USA</td>\n",
              "    </tr>\n",
              "    <tr>\n",
              "      <th>4</th>\n",
              "      <td>18</td>\n",
              "      <td>2020-01-02</td>\n",
              "      <td>1</td>\n",
              "      <td>USA</td>\n",
              "    </tr>\n",
              "    <tr>\n",
              "      <th>...</th>\n",
              "      <td>...</td>\n",
              "      <td>...</td>\n",
              "      <td>...</td>\n",
              "      <td>...</td>\n",
              "    </tr>\n",
              "    <tr>\n",
              "      <th>79</th>\n",
              "      <td>37</td>\n",
              "      <td>2019-12-17</td>\n",
              "      <td>1</td>\n",
              "      <td>Luxembourg</td>\n",
              "    </tr>\n",
              "    <tr>\n",
              "      <th>80</th>\n",
              "      <td>31</td>\n",
              "      <td>2020-01-28</td>\n",
              "      <td>1</td>\n",
              "      <td>Denmark</td>\n",
              "    </tr>\n",
              "    <tr>\n",
              "      <th>81</th>\n",
              "      <td>31</td>\n",
              "      <td>2020-01-03</td>\n",
              "      <td>1</td>\n",
              "      <td>Denmark</td>\n",
              "    </tr>\n",
              "    <tr>\n",
              "      <th>82</th>\n",
              "      <td>22</td>\n",
              "      <td>2019-12-19</td>\n",
              "      <td>1</td>\n",
              "      <td>Canada</td>\n",
              "    </tr>\n",
              "    <tr>\n",
              "      <th>83</th>\n",
              "      <td>22</td>\n",
              "      <td>2019-12-01</td>\n",
              "      <td>1</td>\n",
              "      <td>Canada</td>\n",
              "    </tr>\n",
              "  </tbody>\n",
              "</table>\n",
              "<p>84 rows × 4 columns</p>\n",
              "</div>"
            ],
            "text/plain": [
              "    user_id created_at  number_of_comments     country\n",
              "0        18 2019-12-29                   1         USA\n",
              "1        18 2020-01-31                   1         USA\n",
              "2        18 2019-12-17                   1         USA\n",
              "3        18 2019-12-30                   1         USA\n",
              "4        18 2020-01-02                   1         USA\n",
              "..      ...        ...                 ...         ...\n",
              "79       37 2019-12-17                   1  Luxembourg\n",
              "80       31 2020-01-28                   1     Denmark\n",
              "81       31 2020-01-03                   1     Denmark\n",
              "82       22 2019-12-19                   1      Canada\n",
              "83       22 2019-12-01                   1      Canada\n",
              "\n",
              "[84 rows x 4 columns]"
            ]
          },
          "metadata": {
            "tags": []
          },
          "execution_count": 67
        }
      ]
    },
    {
      "cell_type": "code",
      "metadata": {
        "colab": {
          "base_uri": "https://localhost:8080/",
          "height": 324
        },
        "id": "V0kGBCVO7MtS",
        "outputId": "f57eee76-76cb-4f4f-d080-a912bacb10f3"
      },
      "source": [
        "#groupby by country, tally comments in each month\n",
        "fb_g = fb.groupby(['country', fb.created_at.dt.month]).number_of_comments.sum().unstack().fillna(0)\n",
        "fb_g"
      ],
      "execution_count": null,
      "outputs": [
        {
          "output_type": "execute_result",
          "data": {
            "text/html": [
              "<div>\n",
              "<style scoped>\n",
              "    .dataframe tbody tr th:only-of-type {\n",
              "        vertical-align: middle;\n",
              "    }\n",
              "\n",
              "    .dataframe tbody tr th {\n",
              "        vertical-align: top;\n",
              "    }\n",
              "\n",
              "    .dataframe thead th {\n",
              "        text-align: right;\n",
              "    }\n",
              "</style>\n",
              "<table border=\"1\" class=\"dataframe\">\n",
              "  <thead>\n",
              "    <tr style=\"text-align: right;\">\n",
              "      <th>created_at</th>\n",
              "      <th>1</th>\n",
              "      <th>12</th>\n",
              "    </tr>\n",
              "    <tr>\n",
              "      <th>country</th>\n",
              "      <th></th>\n",
              "      <th></th>\n",
              "    </tr>\n",
              "  </thead>\n",
              "  <tbody>\n",
              "    <tr>\n",
              "      <th>Australia</th>\n",
              "      <td>6.0</td>\n",
              "      <td>6.0</td>\n",
              "    </tr>\n",
              "    <tr>\n",
              "      <th>Brazil</th>\n",
              "      <td>3.0</td>\n",
              "      <td>3.0</td>\n",
              "    </tr>\n",
              "    <tr>\n",
              "      <th>Canada</th>\n",
              "      <td>0.0</td>\n",
              "      <td>2.0</td>\n",
              "    </tr>\n",
              "    <tr>\n",
              "      <th>China</th>\n",
              "      <td>8.0</td>\n",
              "      <td>9.0</td>\n",
              "    </tr>\n",
              "    <tr>\n",
              "      <th>Denmark</th>\n",
              "      <td>2.0</td>\n",
              "      <td>0.0</td>\n",
              "    </tr>\n",
              "    <tr>\n",
              "      <th>Luxembourg</th>\n",
              "      <td>4.0</td>\n",
              "      <td>3.0</td>\n",
              "    </tr>\n",
              "    <tr>\n",
              "      <th>Mali</th>\n",
              "      <td>11.0</td>\n",
              "      <td>8.0</td>\n",
              "    </tr>\n",
              "    <tr>\n",
              "      <th>USA</th>\n",
              "      <td>11.0</td>\n",
              "      <td>11.0</td>\n",
              "    </tr>\n",
              "  </tbody>\n",
              "</table>\n",
              "</div>"
            ],
            "text/plain": [
              "created_at    1     12\n",
              "country               \n",
              "Australia    6.0   6.0\n",
              "Brazil       3.0   3.0\n",
              "Canada       0.0   2.0\n",
              "China        8.0   9.0\n",
              "Denmark      2.0   0.0\n",
              "Luxembourg   4.0   3.0\n",
              "Mali        11.0   8.0\n",
              "USA         11.0  11.0"
            ]
          },
          "metadata": {
            "tags": []
          },
          "execution_count": 68
        }
      ]
    },
    {
      "cell_type": "code",
      "metadata": {
        "colab": {
          "base_uri": "https://localhost:8080/"
        },
        "id": "6moPEEnEINOx",
        "outputId": "2c00f2a0-1ff2-4186-a3cc-ef378736c02c"
      },
      "source": [
        "# convert to rankings & compare\n",
        "fb_r = fb_g.rank(method='dense', ascending=False)\n",
        "fb_r[fb_r[1] < fb_r[12]]"
      ],
      "execution_count": null,
      "outputs": [
        {
          "output_type": "execute_result",
          "data": {
            "text/plain": [
              "Index(['Australia', 'Denmark', 'Luxembourg', 'Mali'], dtype='object', name='country')"
            ]
          },
          "metadata": {
            "tags": []
          },
          "execution_count": 76
        }
      ]
    },
    {
      "cell_type": "markdown",
      "metadata": {
        "id": "UbdkZpvnPtaQ"
      },
      "source": [
        "# New And Existing Users"
      ]
    },
    {
      "cell_type": "markdown",
      "metadata": {
        "id": "B9BRk8vZLrmL"
      },
      "source": [
        "Calculate the share of new and existing users. Output the month, share of new users, and share of existing users as a ratio.\n",
        "New users are defined as users who started using services in the current month. Existing users are users who started using services in current month and used services in any previous month."
      ]
    },
    {
      "cell_type": "code",
      "metadata": {
        "colab": {
          "base_uri": "https://localhost:8080/",
          "height": 202
        },
        "id": "Ag5neNg4Pub3",
        "outputId": "4a632a2c-4357-4753-bfd0-4530b92594e0"
      },
      "source": [
        "fe = pd.read_excel('fact_events.xlsx')\n",
        "fe['event_month'] = fe['time_id'].dt.month\n",
        "fe['user_month_start'] = fe.groupby('user_id').event_month.transform(min)\n",
        "fe.head()"
      ],
      "execution_count": null,
      "outputs": [
        {
          "output_type": "execute_result",
          "data": {
            "text/html": [
              "<div>\n",
              "<style scoped>\n",
              "    .dataframe tbody tr th:only-of-type {\n",
              "        vertical-align: middle;\n",
              "    }\n",
              "\n",
              "    .dataframe tbody tr th {\n",
              "        vertical-align: top;\n",
              "    }\n",
              "\n",
              "    .dataframe thead th {\n",
              "        text-align: right;\n",
              "    }\n",
              "</style>\n",
              "<table border=\"1\" class=\"dataframe\">\n",
              "  <thead>\n",
              "    <tr style=\"text-align: right;\">\n",
              "      <th></th>\n",
              "      <th>id</th>\n",
              "      <th>time_id</th>\n",
              "      <th>user_id</th>\n",
              "      <th>customer_id</th>\n",
              "      <th>client_id</th>\n",
              "      <th>event_type</th>\n",
              "      <th>event_id</th>\n",
              "      <th>event_month</th>\n",
              "      <th>user_month_start</th>\n",
              "    </tr>\n",
              "  </thead>\n",
              "  <tbody>\n",
              "    <tr>\n",
              "      <th>0</th>\n",
              "      <td>1</td>\n",
              "      <td>2020-02-28</td>\n",
              "      <td>3668-QPYBK</td>\n",
              "      <td>Sendit</td>\n",
              "      <td>desktop</td>\n",
              "      <td>message sent</td>\n",
              "      <td>3</td>\n",
              "      <td>2</td>\n",
              "      <td>2</td>\n",
              "    </tr>\n",
              "    <tr>\n",
              "      <th>1</th>\n",
              "      <td>2</td>\n",
              "      <td>2020-02-28</td>\n",
              "      <td>7892-POOKP</td>\n",
              "      <td>Connectix</td>\n",
              "      <td>mobile</td>\n",
              "      <td>file received</td>\n",
              "      <td>2</td>\n",
              "      <td>2</td>\n",
              "      <td>2</td>\n",
              "    </tr>\n",
              "    <tr>\n",
              "      <th>2</th>\n",
              "      <td>3</td>\n",
              "      <td>2020-04-03</td>\n",
              "      <td>9763-GRSKD</td>\n",
              "      <td>Zoomit</td>\n",
              "      <td>desktop</td>\n",
              "      <td>video call received</td>\n",
              "      <td>7</td>\n",
              "      <td>4</td>\n",
              "      <td>4</td>\n",
              "    </tr>\n",
              "    <tr>\n",
              "      <th>3</th>\n",
              "      <td>4</td>\n",
              "      <td>2020-04-02</td>\n",
              "      <td>9763-GRSKD</td>\n",
              "      <td>Connectix</td>\n",
              "      <td>desktop</td>\n",
              "      <td>video call received</td>\n",
              "      <td>7</td>\n",
              "      <td>4</td>\n",
              "      <td>4</td>\n",
              "    </tr>\n",
              "    <tr>\n",
              "      <th>4</th>\n",
              "      <td>5</td>\n",
              "      <td>2020-02-06</td>\n",
              "      <td>9237-HQITU</td>\n",
              "      <td>Sendit</td>\n",
              "      <td>desktop</td>\n",
              "      <td>video call received</td>\n",
              "      <td>7</td>\n",
              "      <td>2</td>\n",
              "      <td>2</td>\n",
              "    </tr>\n",
              "  </tbody>\n",
              "</table>\n",
              "</div>"
            ],
            "text/plain": [
              "   id    time_id     user_id  ... event_id event_month user_month_start\n",
              "0   1 2020-02-28  3668-QPYBK  ...        3           2                2\n",
              "1   2 2020-02-28  7892-POOKP  ...        2           2                2\n",
              "2   3 2020-04-03  9763-GRSKD  ...        7           4                4\n",
              "3   4 2020-04-02  9763-GRSKD  ...        7           4                4\n",
              "4   5 2020-02-06  9237-HQITU  ...        7           2                2\n",
              "\n",
              "[5 rows x 9 columns]"
            ]
          },
          "metadata": {
            "tags": []
          },
          "execution_count": 78
        }
      ]
    },
    {
      "cell_type": "code",
      "metadata": {
        "colab": {
          "base_uri": "https://localhost:8080/"
        },
        "id": "1qyvlN1MPuZJ",
        "outputId": "334b47bb-0b5e-4199-a221-d28d4eb9bd23"
      },
      "source": [
        "# fe.groupby('event_month').apply(lambda g : g[g.user_month_start == g.event_month].user_id.nunique()/g.user_id.nunique())"
      ],
      "execution_count": null,
      "outputs": [
        {
          "output_type": "execute_result",
          "data": {
            "text/plain": [
              "event_month\n",
              "2    1.000000\n",
              "3    0.294118\n",
              "4    0.142857\n",
              "dtype: float64"
            ]
          },
          "metadata": {
            "tags": []
          },
          "execution_count": 103
        }
      ]
    },
    {
      "cell_type": "code",
      "metadata": {
        "colab": {
          "base_uri": "https://localhost:8080/",
          "height": 167
        },
        "id": "c9rKrCaHRw6m",
        "outputId": "01a29067-c751-4ae8-b32a-acfe0f68a09a"
      },
      "source": [
        "def new_users(g):\n",
        "  new = g[g.user_month_start == g.event_month].user_id.nunique() / g.user_id.nunique()\n",
        "  existing = 1 - new\n",
        "  return pd.Series({'share_new' : new, 'share_existing' : existing})\n",
        "\n",
        "fe.groupby('event_month').apply(new_users)"
      ],
      "execution_count": null,
      "outputs": [
        {
          "output_type": "execute_result",
          "data": {
            "text/html": [
              "<div>\n",
              "<style scoped>\n",
              "    .dataframe tbody tr th:only-of-type {\n",
              "        vertical-align: middle;\n",
              "    }\n",
              "\n",
              "    .dataframe tbody tr th {\n",
              "        vertical-align: top;\n",
              "    }\n",
              "\n",
              "    .dataframe thead th {\n",
              "        text-align: right;\n",
              "    }\n",
              "</style>\n",
              "<table border=\"1\" class=\"dataframe\">\n",
              "  <thead>\n",
              "    <tr style=\"text-align: right;\">\n",
              "      <th></th>\n",
              "      <th>share_new</th>\n",
              "      <th>share_existing</th>\n",
              "    </tr>\n",
              "    <tr>\n",
              "      <th>event_month</th>\n",
              "      <th></th>\n",
              "      <th></th>\n",
              "    </tr>\n",
              "  </thead>\n",
              "  <tbody>\n",
              "    <tr>\n",
              "      <th>2</th>\n",
              "      <td>1.000000</td>\n",
              "      <td>0.000000</td>\n",
              "    </tr>\n",
              "    <tr>\n",
              "      <th>3</th>\n",
              "      <td>0.294118</td>\n",
              "      <td>0.705882</td>\n",
              "    </tr>\n",
              "    <tr>\n",
              "      <th>4</th>\n",
              "      <td>0.142857</td>\n",
              "      <td>0.857143</td>\n",
              "    </tr>\n",
              "  </tbody>\n",
              "</table>\n",
              "</div>"
            ],
            "text/plain": [
              "             share_new  share_existing\n",
              "event_month                           \n",
              "2             1.000000        0.000000\n",
              "3             0.294118        0.705882\n",
              "4             0.142857        0.857143"
            ]
          },
          "metadata": {
            "tags": []
          },
          "execution_count": 104
        }
      ]
    },
    {
      "cell_type": "markdown",
      "metadata": {
        "id": "K-F459zcUyUx"
      },
      "source": [
        "# Average Time Between Steps\n"
      ]
    },
    {
      "cell_type": "markdown",
      "metadata": {
        "id": "E9U81sZfMFnF"
      },
      "source": [
        "Find the average time (in seconds), per product, that needed to progress between steps. You can ignore products that were never used. Output the feature id and the average time."
      ]
    },
    {
      "cell_type": "code",
      "metadata": {
        "colab": {
          "base_uri": "https://localhost:8080/",
          "height": 197
        },
        "id": "x4hB5eSnU2op",
        "outputId": "15cf66bb-eed6-4499-8ef4-5f37ae68bd9d"
      },
      "source": [
        "fb = pd.read_excel('fb_product_features.xlsx')\n",
        "fb.head()"
      ],
      "execution_count": null,
      "outputs": [
        {
          "output_type": "execute_result",
          "data": {
            "text/html": [
              "<div>\n",
              "<style scoped>\n",
              "    .dataframe tbody tr th:only-of-type {\n",
              "        vertical-align: middle;\n",
              "    }\n",
              "\n",
              "    .dataframe tbody tr th {\n",
              "        vertical-align: top;\n",
              "    }\n",
              "\n",
              "    .dataframe thead th {\n",
              "        text-align: right;\n",
              "    }\n",
              "</style>\n",
              "<table border=\"1\" class=\"dataframe\">\n",
              "  <thead>\n",
              "    <tr style=\"text-align: right;\">\n",
              "      <th></th>\n",
              "      <th>feature_id</th>\n",
              "      <th>user_id</th>\n",
              "      <th>step_reached</th>\n",
              "      <th>timestamp</th>\n",
              "    </tr>\n",
              "  </thead>\n",
              "  <tbody>\n",
              "    <tr>\n",
              "      <th>0</th>\n",
              "      <td>0</td>\n",
              "      <td>0</td>\n",
              "      <td>1</td>\n",
              "      <td>2019-03-11 17:15:00</td>\n",
              "    </tr>\n",
              "    <tr>\n",
              "      <th>1</th>\n",
              "      <td>0</td>\n",
              "      <td>0</td>\n",
              "      <td>2</td>\n",
              "      <td>2019-03-11 17:22:00</td>\n",
              "    </tr>\n",
              "    <tr>\n",
              "      <th>2</th>\n",
              "      <td>0</td>\n",
              "      <td>0</td>\n",
              "      <td>3</td>\n",
              "      <td>2019-03-11 17:25:00</td>\n",
              "    </tr>\n",
              "    <tr>\n",
              "      <th>3</th>\n",
              "      <td>0</td>\n",
              "      <td>0</td>\n",
              "      <td>4</td>\n",
              "      <td>2019-03-11 17:27:00</td>\n",
              "    </tr>\n",
              "    <tr>\n",
              "      <th>4</th>\n",
              "      <td>0</td>\n",
              "      <td>1</td>\n",
              "      <td>1</td>\n",
              "      <td>2019-03-11 19:51:00</td>\n",
              "    </tr>\n",
              "  </tbody>\n",
              "</table>\n",
              "</div>"
            ],
            "text/plain": [
              "   feature_id  user_id  step_reached           timestamp\n",
              "0           0        0             1 2019-03-11 17:15:00\n",
              "1           0        0             2 2019-03-11 17:22:00\n",
              "2           0        0             3 2019-03-11 17:25:00\n",
              "3           0        0             4 2019-03-11 17:27:00\n",
              "4           0        1             1 2019-03-11 19:51:00"
            ]
          },
          "metadata": {
            "tags": []
          },
          "execution_count": 2
        }
      ]
    },
    {
      "cell_type": "code",
      "metadata": {
        "colab": {
          "base_uri": "https://localhost:8080/"
        },
        "id": "qTTe0sbaY-6z",
        "outputId": "dd9fe3f4-900b-4715-b2df-7161fc6d0301"
      },
      "source": [
        "fb.groupby('feature_id').apply(lambda g : g.groupby('user_id').timestamp.diff().mean().total_seconds()).dropna()"
      ],
      "execution_count": null,
      "outputs": [
        {
          "output_type": "execute_result",
          "data": {
            "text/plain": [
              "feature_id\n",
              "0    186.666666\n",
              "dtype: float64"
            ]
          },
          "metadata": {
            "tags": []
          },
          "execution_count": 50
        }
      ]
    },
    {
      "cell_type": "markdown",
      "metadata": {
        "id": "kkP0RZ3KhFMY"
      },
      "source": [
        "# Differences In Movie Ratings"
      ]
    },
    {
      "cell_type": "markdown",
      "metadata": {
        "id": "opmHk899MYkV"
      },
      "source": [
        "Calculate the average lifetime rating and rating from the second latest film across all actors and all films they had acted in. Output a list of actors, their average lifetime rating, rating from the second latest film, and the difference between the two ratings."
      ]
    },
    {
      "cell_type": "code",
      "metadata": {
        "colab": {
          "base_uri": "https://localhost:8080/",
          "height": 662
        },
        "id": "3Ev9LZa4hEOS",
        "outputId": "996de6fb-d9ca-4f9c-98fb-8120d8016a9b"
      },
      "source": [
        "df = pd.read_csv('Filmography.csv').sort_values('name')\n",
        "df.head(20)"
      ],
      "execution_count": null,
      "outputs": [
        {
          "output_type": "execute_result",
          "data": {
            "text/html": [
              "<div>\n",
              "<style scoped>\n",
              "    .dataframe tbody tr th:only-of-type {\n",
              "        vertical-align: middle;\n",
              "    }\n",
              "\n",
              "    .dataframe tbody tr th {\n",
              "        vertical-align: top;\n",
              "    }\n",
              "\n",
              "    .dataframe thead th {\n",
              "        text-align: right;\n",
              "    }\n",
              "</style>\n",
              "<table border=\"1\" class=\"dataframe\">\n",
              "  <thead>\n",
              "    <tr style=\"text-align: right;\">\n",
              "      <th></th>\n",
              "      <th>name</th>\n",
              "      <th>amg_movie_id</th>\n",
              "      <th>movie_title</th>\n",
              "      <th>role_type</th>\n",
              "      <th>rating</th>\n",
              "      <th>year</th>\n",
              "      <th>id</th>\n",
              "    </tr>\n",
              "  </thead>\n",
              "  <tbody>\n",
              "    <tr>\n",
              "      <th>728</th>\n",
              "      <td>Abigail Breslin</td>\n",
              "      <td>V 578500</td>\n",
              "      <td>Haunter</td>\n",
              "      <td>Normal Acting</td>\n",
              "      <td>4.0</td>\n",
              "      <td>2013</td>\n",
              "      <td>52352</td>\n",
              "    </tr>\n",
              "    <tr>\n",
              "      <th>727</th>\n",
              "      <td>Abigail Breslin</td>\n",
              "      <td>V 551200</td>\n",
              "      <td>Ender's Game</td>\n",
              "      <td>Normal Acting</td>\n",
              "      <td>5.0</td>\n",
              "      <td>2013</td>\n",
              "      <td>52351</td>\n",
              "    </tr>\n",
              "    <tr>\n",
              "      <th>726</th>\n",
              "      <td>Abigail Breslin</td>\n",
              "      <td>V 570771</td>\n",
              "      <td>August: Osage County</td>\n",
              "      <td>Normal Acting</td>\n",
              "      <td>8.0</td>\n",
              "      <td>2013</td>\n",
              "      <td>52350</td>\n",
              "    </tr>\n",
              "    <tr>\n",
              "      <th>1671</th>\n",
              "      <td>Abigail Breslin</td>\n",
              "      <td>V 568482</td>\n",
              "      <td>Zambezia</td>\n",
              "      <td>Voice</td>\n",
              "      <td>NaN</td>\n",
              "      <td>2012</td>\n",
              "      <td>52354</td>\n",
              "    </tr>\n",
              "    <tr>\n",
              "      <th>1670</th>\n",
              "      <td>Abigail Breslin</td>\n",
              "      <td>V 583915</td>\n",
              "      <td>Maggie</td>\n",
              "      <td>Normal Acting</td>\n",
              "      <td>NaN</td>\n",
              "      <td>2014</td>\n",
              "      <td>52349</td>\n",
              "    </tr>\n",
              "    <tr>\n",
              "      <th>729</th>\n",
              "      <td>Abigail Breslin</td>\n",
              "      <td>V 574290</td>\n",
              "      <td>The Call</td>\n",
              "      <td>Normal Acting</td>\n",
              "      <td>6.0</td>\n",
              "      <td>2013</td>\n",
              "      <td>52353</td>\n",
              "    </tr>\n",
              "    <tr>\n",
              "      <th>1195</th>\n",
              "      <td>Adriana Barraza</td>\n",
              "      <td>V 558945</td>\n",
              "      <td>Mariachi Gringo</td>\n",
              "      <td>Normal Acting</td>\n",
              "      <td>NaN</td>\n",
              "      <td>2012</td>\n",
              "      <td>19950</td>\n",
              "    </tr>\n",
              "    <tr>\n",
              "      <th>271</th>\n",
              "      <td>Adrien Brody</td>\n",
              "      <td>V 574788</td>\n",
              "      <td>Back to 1942</td>\n",
              "      <td>Normal Acting</td>\n",
              "      <td>3.0</td>\n",
              "      <td>2012</td>\n",
              "      <td>17987</td>\n",
              "    </tr>\n",
              "    <tr>\n",
              "      <th>1151</th>\n",
              "      <td>Adrien Brody</td>\n",
              "      <td>V 586040</td>\n",
              "      <td>Third Person</td>\n",
              "      <td>Normal Acting</td>\n",
              "      <td>NaN</td>\n",
              "      <td>2013</td>\n",
              "      <td>17986</td>\n",
              "    </tr>\n",
              "    <tr>\n",
              "      <th>1150</th>\n",
              "      <td>Adrien Brody</td>\n",
              "      <td>V 556975</td>\n",
              "      <td>Motor City</td>\n",
              "      <td>Normal Acting</td>\n",
              "      <td>NaN</td>\n",
              "      <td>2014</td>\n",
              "      <td>17985</td>\n",
              "    </tr>\n",
              "    <tr>\n",
              "      <th>1149</th>\n",
              "      <td>Adrien Brody</td>\n",
              "      <td>V 569290</td>\n",
              "      <td>Grand Budapest Hotel</td>\n",
              "      <td>Normal Acting</td>\n",
              "      <td>NaN</td>\n",
              "      <td>2014</td>\n",
              "      <td>17984</td>\n",
              "    </tr>\n",
              "    <tr>\n",
              "      <th>565</th>\n",
              "      <td>Al Pacino</td>\n",
              "      <td>V 556976</td>\n",
              "      <td>Stand Up Guys</td>\n",
              "      <td>Normal Acting</td>\n",
              "      <td>6.0</td>\n",
              "      <td>2013</td>\n",
              "      <td>37706</td>\n",
              "    </tr>\n",
              "    <tr>\n",
              "      <th>1469</th>\n",
              "      <td>Al Pacino</td>\n",
              "      <td>V 584127</td>\n",
              "      <td>Phil Spector</td>\n",
              "      <td>Normal Acting</td>\n",
              "      <td>NaN</td>\n",
              "      <td>2013</td>\n",
              "      <td>37703</td>\n",
              "    </tr>\n",
              "    <tr>\n",
              "      <th>1467</th>\n",
              "      <td>Al Pacino</td>\n",
              "      <td>V 573603</td>\n",
              "      <td>Imagine</td>\n",
              "      <td>Normal Acting</td>\n",
              "      <td>NaN</td>\n",
              "      <td>2014</td>\n",
              "      <td>37701</td>\n",
              "    </tr>\n",
              "    <tr>\n",
              "      <th>1466</th>\n",
              "      <td>Al Pacino</td>\n",
              "      <td>V 576794</td>\n",
              "      <td>Happy Valley</td>\n",
              "      <td>Normal Acting</td>\n",
              "      <td>NaN</td>\n",
              "      <td>2014</td>\n",
              "      <td>37700</td>\n",
              "    </tr>\n",
              "    <tr>\n",
              "      <th>1470</th>\n",
              "      <td>Al Pacino</td>\n",
              "      <td>V 591536</td>\n",
              "      <td>Salom??</td>\n",
              "      <td>Director</td>\n",
              "      <td>NaN</td>\n",
              "      <td>2013</td>\n",
              "      <td>37704</td>\n",
              "    </tr>\n",
              "    <tr>\n",
              "      <th>1465</th>\n",
              "      <td>Al Pacino</td>\n",
              "      <td>V 536985</td>\n",
              "      <td>Gotti: In the Shadow of My Father</td>\n",
              "      <td>Normal Acting</td>\n",
              "      <td>NaN</td>\n",
              "      <td>2014</td>\n",
              "      <td>37699</td>\n",
              "    </tr>\n",
              "    <tr>\n",
              "      <th>1468</th>\n",
              "      <td>Al Pacino</td>\n",
              "      <td>V 471761</td>\n",
              "      <td>The Irishman</td>\n",
              "      <td>Normal Acting</td>\n",
              "      <td>NaN</td>\n",
              "      <td>2014</td>\n",
              "      <td>37702</td>\n",
              "    </tr>\n",
              "    <tr>\n",
              "      <th>1471</th>\n",
              "      <td>Al Pacino</td>\n",
              "      <td>V 591536</td>\n",
              "      <td>Salom??</td>\n",
              "      <td>Normal Acting</td>\n",
              "      <td>NaN</td>\n",
              "      <td>2013</td>\n",
              "      <td>37705</td>\n",
              "    </tr>\n",
              "    <tr>\n",
              "      <th>1472</th>\n",
              "      <td>Al Pacino</td>\n",
              "      <td>V 570975</td>\n",
              "      <td>Casting By</td>\n",
              "      <td>Participant</td>\n",
              "      <td>NaN</td>\n",
              "      <td>2012</td>\n",
              "      <td>37707</td>\n",
              "    </tr>\n",
              "  </tbody>\n",
              "</table>\n",
              "</div>"
            ],
            "text/plain": [
              "                 name amg_movie_id  ...  year     id\n",
              "728   Abigail Breslin     V 578500  ...  2013  52352\n",
              "727   Abigail Breslin     V 551200  ...  2013  52351\n",
              "726   Abigail Breslin     V 570771  ...  2013  52350\n",
              "1671  Abigail Breslin     V 568482  ...  2012  52354\n",
              "1670  Abigail Breslin     V 583915  ...  2014  52349\n",
              "729   Abigail Breslin     V 574290  ...  2013  52353\n",
              "1195  Adriana Barraza     V 558945  ...  2012  19950\n",
              "271      Adrien Brody     V 574788  ...  2012  17987\n",
              "1151     Adrien Brody     V 586040  ...  2013  17986\n",
              "1150     Adrien Brody     V 556975  ...  2014  17985\n",
              "1149     Adrien Brody     V 569290  ...  2014  17984\n",
              "565         Al Pacino     V 556976  ...  2013  37706\n",
              "1469        Al Pacino     V 584127  ...  2013  37703\n",
              "1467        Al Pacino     V 573603  ...  2014  37701\n",
              "1466        Al Pacino     V 576794  ...  2014  37700\n",
              "1470        Al Pacino     V 591536  ...  2013  37704\n",
              "1465        Al Pacino     V 536985  ...  2014  37699\n",
              "1468        Al Pacino     V 471761  ...  2014  37702\n",
              "1471        Al Pacino     V 591536  ...  2013  37705\n",
              "1472        Al Pacino     V 570975  ...  2012  37707\n",
              "\n",
              "[20 rows x 7 columns]"
            ]
          },
          "metadata": {
            "tags": []
          },
          "execution_count": 3
        }
      ]
    },
    {
      "cell_type": "code",
      "metadata": {
        "colab": {
          "base_uri": "https://localhost:8080/"
        },
        "id": "wpqGd25D4mMR",
        "outputId": "b8bb556a-eab2-4845-9644-aa631c16c72c"
      },
      "source": [
        "df = df.dropna(subset=['rating']).groupby('name').filter(lambda g : g.rating.count() > 1)\n",
        "# df = df.groupby('name').filter(lambda g : g.rating.notna().sum()>1)\n",
        "df.groupby('name').rating.mean()"
      ],
      "execution_count": null,
      "outputs": [
        {
          "output_type": "execute_result",
          "data": {
            "text/plain": [
              "name\n",
              "Abigail Breslin    5.750000\n",
              "Alan Arkin         4.500000\n",
              "Albert Finney      6.500000\n",
              "Alec Baldwin       5.000000\n",
              "Amy Adams          6.000000\n",
              "                     ...   \n",
              "William H. Macy    6.000000\n",
              "William Hurt       4.500000\n",
              "Winona Ryder       5.333333\n",
              "Woody Allen        3.833333\n",
              "Woody Harrelson    6.000000\n",
              "Name: rating, Length: 206, dtype: float64"
            ]
          },
          "metadata": {
            "tags": []
          },
          "execution_count": 7
        }
      ]
    },
    {
      "cell_type": "code",
      "metadata": {
        "colab": {
          "base_uri": "https://localhost:8080/",
          "height": 445
        },
        "id": "1Bg_Y37F1Lhi",
        "outputId": "0b692ba6-7b26-4fa5-9fec-3d3e7f4730c8"
      },
      "source": [
        "def ratings(g):\n",
        "  d = {}\n",
        "  d['second_last'] = g[g.id.argsort()==1].rating.values[0]\n",
        "  d['lifetime'] = g.rating.mean()\n",
        "  d['variance'] = d['second_last'] - d['lifetime']\n",
        "  return pd.Series(d)\n",
        "df.groupby('name').apply(ratings)"
      ],
      "execution_count": null,
      "outputs": [
        {
          "output_type": "execute_result",
          "data": {
            "text/html": [
              "<div>\n",
              "<style scoped>\n",
              "    .dataframe tbody tr th:only-of-type {\n",
              "        vertical-align: middle;\n",
              "    }\n",
              "\n",
              "    .dataframe tbody tr th {\n",
              "        vertical-align: top;\n",
              "    }\n",
              "\n",
              "    .dataframe thead th {\n",
              "        text-align: right;\n",
              "    }\n",
              "</style>\n",
              "<table border=\"1\" class=\"dataframe\">\n",
              "  <thead>\n",
              "    <tr style=\"text-align: right;\">\n",
              "      <th></th>\n",
              "      <th>second_last</th>\n",
              "      <th>lifetime</th>\n",
              "      <th>variance</th>\n",
              "    </tr>\n",
              "    <tr>\n",
              "      <th>name</th>\n",
              "      <th></th>\n",
              "      <th></th>\n",
              "      <th></th>\n",
              "    </tr>\n",
              "  </thead>\n",
              "  <tbody>\n",
              "    <tr>\n",
              "      <th>Abigail Breslin</th>\n",
              "      <td>5.0</td>\n",
              "      <td>5.750000</td>\n",
              "      <td>-0.750000</td>\n",
              "    </tr>\n",
              "    <tr>\n",
              "      <th>Alan Arkin</th>\n",
              "      <td>6.0</td>\n",
              "      <td>4.500000</td>\n",
              "      <td>1.500000</td>\n",
              "    </tr>\n",
              "    <tr>\n",
              "      <th>Albert Finney</th>\n",
              "      <td>5.0</td>\n",
              "      <td>6.500000</td>\n",
              "      <td>-1.500000</td>\n",
              "    </tr>\n",
              "    <tr>\n",
              "      <th>Alec Baldwin</th>\n",
              "      <td>5.0</td>\n",
              "      <td>5.000000</td>\n",
              "      <td>0.000000</td>\n",
              "    </tr>\n",
              "    <tr>\n",
              "      <th>Amy Adams</th>\n",
              "      <td>7.0</td>\n",
              "      <td>6.000000</td>\n",
              "      <td>1.000000</td>\n",
              "    </tr>\n",
              "    <tr>\n",
              "      <th>...</th>\n",
              "      <td>...</td>\n",
              "      <td>...</td>\n",
              "      <td>...</td>\n",
              "    </tr>\n",
              "    <tr>\n",
              "      <th>William H. Macy</th>\n",
              "      <td>7.0</td>\n",
              "      <td>6.000000</td>\n",
              "      <td>1.000000</td>\n",
              "    </tr>\n",
              "    <tr>\n",
              "      <th>William Hurt</th>\n",
              "      <td>6.0</td>\n",
              "      <td>4.500000</td>\n",
              "      <td>1.500000</td>\n",
              "    </tr>\n",
              "    <tr>\n",
              "      <th>Winona Ryder</th>\n",
              "      <td>7.0</td>\n",
              "      <td>5.333333</td>\n",
              "      <td>1.666667</td>\n",
              "    </tr>\n",
              "    <tr>\n",
              "      <th>Woody Allen</th>\n",
              "      <td>2.0</td>\n",
              "      <td>3.833333</td>\n",
              "      <td>-1.833333</td>\n",
              "    </tr>\n",
              "    <tr>\n",
              "      <th>Woody Harrelson</th>\n",
              "      <td>5.0</td>\n",
              "      <td>6.000000</td>\n",
              "      <td>-1.000000</td>\n",
              "    </tr>\n",
              "  </tbody>\n",
              "</table>\n",
              "<p>206 rows × 3 columns</p>\n",
              "</div>"
            ],
            "text/plain": [
              "                 second_last  lifetime  variance\n",
              "name                                            \n",
              "Abigail Breslin          5.0  5.750000 -0.750000\n",
              "Alan Arkin               6.0  4.500000  1.500000\n",
              "Albert Finney            5.0  6.500000 -1.500000\n",
              "Alec Baldwin             5.0  5.000000  0.000000\n",
              "Amy Adams                7.0  6.000000  1.000000\n",
              "...                      ...       ...       ...\n",
              "William H. Macy          7.0  6.000000  1.000000\n",
              "William Hurt             6.0  4.500000  1.500000\n",
              "Winona Ryder             7.0  5.333333  1.666667\n",
              "Woody Allen              2.0  3.833333 -1.833333\n",
              "Woody Harrelson          5.0  6.000000 -1.000000\n",
              "\n",
              "[206 rows x 3 columns]"
            ]
          },
          "metadata": {
            "tags": []
          },
          "execution_count": 8
        }
      ]
    },
    {
      "cell_type": "markdown",
      "metadata": {
        "id": "K7CGbzD0DMCr"
      },
      "source": [
        "# The Cheapest Airline Connection"
      ]
    },
    {
      "cell_type": "markdown",
      "metadata": {
        "id": "Txuyf79sNIsb"
      },
      "source": [
        "Create a trips table that lists all the cheapest possible trips that can be done in two or fewer stop"
      ]
    },
    {
      "cell_type": "code",
      "metadata": {
        "colab": {
          "base_uri": "https://localhost:8080/",
          "height": 232
        },
        "id": "eTxh5rV5DKrj",
        "outputId": "5f24a6d6-17cd-48e7-bad8-67c2e2f24f7a"
      },
      "source": [
        "da = pd.read_excel('Flights.xlsx')\n",
        "da = da.drop(columns='id')\n",
        "da"
      ],
      "execution_count": null,
      "outputs": [
        {
          "output_type": "execute_result",
          "data": {
            "text/html": [
              "<div>\n",
              "<style scoped>\n",
              "    .dataframe tbody tr th:only-of-type {\n",
              "        vertical-align: middle;\n",
              "    }\n",
              "\n",
              "    .dataframe tbody tr th {\n",
              "        vertical-align: top;\n",
              "    }\n",
              "\n",
              "    .dataframe thead th {\n",
              "        text-align: right;\n",
              "    }\n",
              "</style>\n",
              "<table border=\"1\" class=\"dataframe\">\n",
              "  <thead>\n",
              "    <tr style=\"text-align: right;\">\n",
              "      <th></th>\n",
              "      <th>origin</th>\n",
              "      <th>destination</th>\n",
              "      <th>cost</th>\n",
              "    </tr>\n",
              "  </thead>\n",
              "  <tbody>\n",
              "    <tr>\n",
              "      <th>0</th>\n",
              "      <td>SFO</td>\n",
              "      <td>JFK</td>\n",
              "      <td>500</td>\n",
              "    </tr>\n",
              "    <tr>\n",
              "      <th>1</th>\n",
              "      <td>SFO</td>\n",
              "      <td>DFW</td>\n",
              "      <td>200</td>\n",
              "    </tr>\n",
              "    <tr>\n",
              "      <th>2</th>\n",
              "      <td>SFO</td>\n",
              "      <td>MCO</td>\n",
              "      <td>400</td>\n",
              "    </tr>\n",
              "    <tr>\n",
              "      <th>3</th>\n",
              "      <td>DFW</td>\n",
              "      <td>MCO</td>\n",
              "      <td>100</td>\n",
              "    </tr>\n",
              "    <tr>\n",
              "      <th>4</th>\n",
              "      <td>DFW</td>\n",
              "      <td>JFK</td>\n",
              "      <td>200</td>\n",
              "    </tr>\n",
              "    <tr>\n",
              "      <th>5</th>\n",
              "      <td>JFK</td>\n",
              "      <td>LHR</td>\n",
              "      <td>1000</td>\n",
              "    </tr>\n",
              "  </tbody>\n",
              "</table>\n",
              "</div>"
            ],
            "text/plain": [
              "  origin destination  cost\n",
              "0    SFO         JFK   500\n",
              "1    SFO         DFW   200\n",
              "2    SFO         MCO   400\n",
              "3    DFW         MCO   100\n",
              "4    DFW         JFK   200\n",
              "5    JFK         LHR  1000"
            ]
          },
          "metadata": {
            "tags": []
          },
          "execution_count": 79
        }
      ]
    },
    {
      "cell_type": "code",
      "metadata": {
        "colab": {
          "base_uri": "https://localhost:8080/",
          "height": 294
        },
        "id": "p_otPTmJDfgp",
        "outputId": "8e09074a-ad0d-48ee-baff-773441847fd0"
      },
      "source": [
        "da = da.merge(da, left_on='destination', right_on='origin', how='left').\\\n",
        "      merge(da, left_on='destination_y', right_on='origin', how='left')\\\n",
        "      .drop(columns=['origin_y', 'origin'])\n",
        "da[['cost_x', 'cost_y', 'cost']]= da[['cost_x', 'cost_y', 'cost']].cumsum(axis=1)\n",
        "\n",
        "pd.DataFrame(\n",
        "    np.concatenate([da.iloc[:,[0,i,i+1]] for i in range(1,len(da.columns),2)], axis=0), \n",
        "    columns = ['origin', 'destination', 'cost']).\\\n",
        "    groupby(['origin', 'destination']).cost.min().reset_index()\n"
      ],
      "execution_count": null,
      "outputs": [
        {
          "output_type": "execute_result",
          "data": {
            "text/html": [
              "<div>\n",
              "<style scoped>\n",
              "    .dataframe tbody tr th:only-of-type {\n",
              "        vertical-align: middle;\n",
              "    }\n",
              "\n",
              "    .dataframe tbody tr th {\n",
              "        vertical-align: top;\n",
              "    }\n",
              "\n",
              "    .dataframe thead th {\n",
              "        text-align: right;\n",
              "    }\n",
              "</style>\n",
              "<table border=\"1\" class=\"dataframe\">\n",
              "  <thead>\n",
              "    <tr style=\"text-align: right;\">\n",
              "      <th></th>\n",
              "      <th>origin</th>\n",
              "      <th>destination</th>\n",
              "      <th>cost</th>\n",
              "    </tr>\n",
              "  </thead>\n",
              "  <tbody>\n",
              "    <tr>\n",
              "      <th>0</th>\n",
              "      <td>DFW</td>\n",
              "      <td>JFK</td>\n",
              "      <td>200.0</td>\n",
              "    </tr>\n",
              "    <tr>\n",
              "      <th>1</th>\n",
              "      <td>DFW</td>\n",
              "      <td>LHR</td>\n",
              "      <td>1200.0</td>\n",
              "    </tr>\n",
              "    <tr>\n",
              "      <th>2</th>\n",
              "      <td>DFW</td>\n",
              "      <td>MCO</td>\n",
              "      <td>100.0</td>\n",
              "    </tr>\n",
              "    <tr>\n",
              "      <th>3</th>\n",
              "      <td>JFK</td>\n",
              "      <td>LHR</td>\n",
              "      <td>1000.0</td>\n",
              "    </tr>\n",
              "    <tr>\n",
              "      <th>4</th>\n",
              "      <td>SFO</td>\n",
              "      <td>DFW</td>\n",
              "      <td>200.0</td>\n",
              "    </tr>\n",
              "    <tr>\n",
              "      <th>5</th>\n",
              "      <td>SFO</td>\n",
              "      <td>JFK</td>\n",
              "      <td>400.0</td>\n",
              "    </tr>\n",
              "    <tr>\n",
              "      <th>6</th>\n",
              "      <td>SFO</td>\n",
              "      <td>LHR</td>\n",
              "      <td>1400.0</td>\n",
              "    </tr>\n",
              "    <tr>\n",
              "      <th>7</th>\n",
              "      <td>SFO</td>\n",
              "      <td>MCO</td>\n",
              "      <td>300.0</td>\n",
              "    </tr>\n",
              "  </tbody>\n",
              "</table>\n",
              "</div>"
            ],
            "text/plain": [
              "  origin destination    cost\n",
              "0    DFW         JFK   200.0\n",
              "1    DFW         LHR  1200.0\n",
              "2    DFW         MCO   100.0\n",
              "3    JFK         LHR  1000.0\n",
              "4    SFO         DFW   200.0\n",
              "5    SFO         JFK   400.0\n",
              "6    SFO         LHR  1400.0\n",
              "7    SFO         MCO   300.0"
            ]
          },
          "metadata": {
            "tags": []
          },
          "execution_count": 161
        }
      ]
    },
    {
      "cell_type": "markdown",
      "metadata": {
        "id": "BTXaz7kuI_U-"
      },
      "source": [
        "# Olympics"
      ]
    },
    {
      "cell_type": "markdown",
      "metadata": {
        "id": "lc-U5YyhJDE_"
      },
      "source": [
        "Find all Norwegian alpine skiers who participated in 1992 but didn't participate in 1994. Output unique athlete names."
      ]
    },
    {
      "cell_type": "code",
      "metadata": {
        "colab": {
          "base_uri": "https://localhost:8080/",
          "height": 355
        },
        "id": "m_NazhPSI-X4",
        "outputId": "d0afaf10-9a98-4dce-c255-13c70edca2d7"
      },
      "source": [
        "olympics_athletes_events = pd.read_excel('Olympics.xlsx')\n",
        "df = olympics_athletes_events[(olympics_athletes_events.team=='Norway') & (olympics_athletes_events.sport == 'Alpine Skiing') ]\n",
        "df"
      ],
      "execution_count": null,
      "outputs": [
        {
          "output_type": "execute_result",
          "data": {
            "text/html": [
              "<div>\n",
              "<style scoped>\n",
              "    .dataframe tbody tr th:only-of-type {\n",
              "        vertical-align: middle;\n",
              "    }\n",
              "\n",
              "    .dataframe tbody tr th {\n",
              "        vertical-align: top;\n",
              "    }\n",
              "\n",
              "    .dataframe thead th {\n",
              "        text-align: right;\n",
              "    }\n",
              "</style>\n",
              "<table border=\"1\" class=\"dataframe\">\n",
              "  <thead>\n",
              "    <tr style=\"text-align: right;\">\n",
              "      <th></th>\n",
              "      <th>id</th>\n",
              "      <th>name</th>\n",
              "      <th>sex</th>\n",
              "      <th>age</th>\n",
              "      <th>height</th>\n",
              "      <th>weight</th>\n",
              "      <th>team</th>\n",
              "      <th>noc</th>\n",
              "      <th>games</th>\n",
              "      <th>year</th>\n",
              "      <th>season</th>\n",
              "      <th>city</th>\n",
              "      <th>sport</th>\n",
              "      <th>event</th>\n",
              "      <th>medal</th>\n",
              "    </tr>\n",
              "  </thead>\n",
              "  <tbody>\n",
              "    <tr>\n",
              "      <th>289</th>\n",
              "      <td>37710</td>\n",
              "      <td>Ole Kristian Furuseth</td>\n",
              "      <td>M</td>\n",
              "      <td>25.0</td>\n",
              "      <td>182</td>\n",
              "      <td>95.0</td>\n",
              "      <td>Norway</td>\n",
              "      <td>NOR</td>\n",
              "      <td>1992 Winter</td>\n",
              "      <td>1992</td>\n",
              "      <td>Winter</td>\n",
              "      <td>Albertville</td>\n",
              "      <td>Alpine Skiing</td>\n",
              "      <td>Alpine Skiing Men's Combined</td>\n",
              "      <td>NaN</td>\n",
              "    </tr>\n",
              "    <tr>\n",
              "      <th>290</th>\n",
              "      <td>61011</td>\n",
              "      <td>Marianne Kjrstad</td>\n",
              "      <td>F</td>\n",
              "      <td>23.0</td>\n",
              "      <td>173</td>\n",
              "      <td>64.0</td>\n",
              "      <td>Norway</td>\n",
              "      <td>NOR</td>\n",
              "      <td>1994 Winter</td>\n",
              "      <td>1994</td>\n",
              "      <td>Winter</td>\n",
              "      <td>Lillehammer</td>\n",
              "      <td>Alpine Skiing</td>\n",
              "      <td>Alpine Skiing Women's Super G</td>\n",
              "      <td>NaN</td>\n",
              "    </tr>\n",
              "    <tr>\n",
              "      <th>291</th>\n",
              "      <td>111597</td>\n",
              "      <td>Atle Skrdal</td>\n",
              "      <td>M</td>\n",
              "      <td>27.0</td>\n",
              "      <td>184</td>\n",
              "      <td>83.0</td>\n",
              "      <td>Norway</td>\n",
              "      <td>NOR</td>\n",
              "      <td>1994 Winter</td>\n",
              "      <td>1994</td>\n",
              "      <td>Winter</td>\n",
              "      <td>Lillehammer</td>\n",
              "      <td>Alpine Skiing</td>\n",
              "      <td>Alpine Skiing Men's Downhill</td>\n",
              "      <td>NaN</td>\n",
              "    </tr>\n",
              "    <tr>\n",
              "      <th>292</th>\n",
              "      <td>39301</td>\n",
              "      <td>Vibecke Caroline Gedde-Dahl</td>\n",
              "      <td>F</td>\n",
              "      <td>20.0</td>\n",
              "      <td>166</td>\n",
              "      <td>62.0</td>\n",
              "      <td>Norway</td>\n",
              "      <td>NOR</td>\n",
              "      <td>1994 Winter</td>\n",
              "      <td>1994</td>\n",
              "      <td>Winter</td>\n",
              "      <td>Lillehammer</td>\n",
              "      <td>Alpine Skiing</td>\n",
              "      <td>Alpine Skiing Women's Super G</td>\n",
              "      <td>NaN</td>\n",
              "    </tr>\n",
              "    <tr>\n",
              "      <th>293</th>\n",
              "      <td>71866</td>\n",
              "      <td>Astrid Ldemel</td>\n",
              "      <td>F</td>\n",
              "      <td>20.0</td>\n",
              "      <td>NaN</td>\n",
              "      <td>NaN</td>\n",
              "      <td>Norway</td>\n",
              "      <td>NOR</td>\n",
              "      <td>1992 Winter</td>\n",
              "      <td>1992</td>\n",
              "      <td>Winter</td>\n",
              "      <td>Albertville</td>\n",
              "      <td>Alpine Skiing</td>\n",
              "      <td>Alpine Skiing Women's Giant Slalom</td>\n",
              "      <td>NaN</td>\n",
              "    </tr>\n",
              "    <tr>\n",
              "      <th>294</th>\n",
              "      <td>20</td>\n",
              "      <td>Kjetil Andr Aamodt</td>\n",
              "      <td>M</td>\n",
              "      <td>20.0</td>\n",
              "      <td>176</td>\n",
              "      <td>85.0</td>\n",
              "      <td>Norway</td>\n",
              "      <td>NOR</td>\n",
              "      <td>1992 Winter</td>\n",
              "      <td>1992</td>\n",
              "      <td>Winter</td>\n",
              "      <td>Albertville</td>\n",
              "      <td>Alpine Skiing</td>\n",
              "      <td>Alpine Skiing Men's Giant Slalom</td>\n",
              "      <td>Bronze</td>\n",
              "    </tr>\n",
              "    <tr>\n",
              "      <th>295</th>\n",
              "      <td>37710</td>\n",
              "      <td>Ole Kristian Furuseth</td>\n",
              "      <td>M</td>\n",
              "      <td>25.0</td>\n",
              "      <td>182</td>\n",
              "      <td>95.0</td>\n",
              "      <td>Norway</td>\n",
              "      <td>NOR</td>\n",
              "      <td>1992 Winter</td>\n",
              "      <td>1992</td>\n",
              "      <td>Winter</td>\n",
              "      <td>Albertville</td>\n",
              "      <td>Alpine Skiing</td>\n",
              "      <td>Alpine Skiing Men's Super G</td>\n",
              "      <td>NaN</td>\n",
              "    </tr>\n",
              "    <tr>\n",
              "      <th>296</th>\n",
              "      <td>120092</td>\n",
              "      <td>Jan Einar Thorsen</td>\n",
              "      <td>M</td>\n",
              "      <td>27.0</td>\n",
              "      <td>181</td>\n",
              "      <td>82.0</td>\n",
              "      <td>Norway</td>\n",
              "      <td>NOR</td>\n",
              "      <td>1994 Winter</td>\n",
              "      <td>1994</td>\n",
              "      <td>Winter</td>\n",
              "      <td>Lillehammer</td>\n",
              "      <td>Alpine Skiing</td>\n",
              "      <td>Alpine Skiing Men's Super G</td>\n",
              "      <td>NaN</td>\n",
              "    </tr>\n",
              "    <tr>\n",
              "      <th>297</th>\n",
              "      <td>61011</td>\n",
              "      <td>Marianne Kjrstad</td>\n",
              "      <td>F</td>\n",
              "      <td>23.0</td>\n",
              "      <td>173</td>\n",
              "      <td>64.0</td>\n",
              "      <td>Norway</td>\n",
              "      <td>NOR</td>\n",
              "      <td>1994 Winter</td>\n",
              "      <td>1994</td>\n",
              "      <td>Winter</td>\n",
              "      <td>Lillehammer</td>\n",
              "      <td>Alpine Skiing</td>\n",
              "      <td>Alpine Skiing Women's Slalom</td>\n",
              "      <td>NaN</td>\n",
              "    </tr>\n",
              "    <tr>\n",
              "      <th>298</th>\n",
              "      <td>75218</td>\n",
              "      <td>Didrik Marksten</td>\n",
              "      <td>M</td>\n",
              "      <td>20.0</td>\n",
              "      <td>NaN</td>\n",
              "      <td>NaN</td>\n",
              "      <td>Norway</td>\n",
              "      <td>NOR</td>\n",
              "      <td>1992 Winter</td>\n",
              "      <td>1992</td>\n",
              "      <td>Winter</td>\n",
              "      <td>Albertville</td>\n",
              "      <td>Alpine Skiing</td>\n",
              "      <td>Alpine Skiing Men's Slalom</td>\n",
              "      <td>NaN</td>\n",
              "    </tr>\n",
              "  </tbody>\n",
              "</table>\n",
              "</div>"
            ],
            "text/plain": [
              "         id  ...   medal\n",
              "289   37710  ...     NaN\n",
              "290   61011  ...     NaN\n",
              "291  111597  ...     NaN\n",
              "292   39301  ...     NaN\n",
              "293   71866  ...     NaN\n",
              "294      20  ...  Bronze\n",
              "295   37710  ...     NaN\n",
              "296  120092  ...     NaN\n",
              "297   61011  ...     NaN\n",
              "298   75218  ...     NaN\n",
              "\n",
              "[10 rows x 15 columns]"
            ]
          },
          "metadata": {
            "tags": []
          },
          "execution_count": 4
        }
      ]
    },
    {
      "cell_type": "code",
      "metadata": {
        "colab": {
          "base_uri": "https://localhost:8080/"
        },
        "id": "gUvD-SXVJb6u",
        "outputId": "7558c74c-3d37-46b9-9b9a-cdf1931b3c05"
      },
      "source": [
        "df.groupby(['name', 'year']).size().unstack().dropna(subset=[1992])[1994].isna().reset_index().name"
      ],
      "execution_count": null,
      "outputs": [
        {
          "output_type": "execute_result",
          "data": {
            "text/plain": [
              "0            Astrid Ldemel\n",
              "1          Didrik Marksten\n",
              "2       Kjetil Andr Aamodt\n",
              "3    Ole Kristian Furuseth\n",
              "Name: name, dtype: object"
            ]
          },
          "metadata": {
            "tags": []
          },
          "execution_count": 24
        }
      ]
    },
    {
      "cell_type": "markdown",
      "metadata": {
        "id": "Q2catfuvWNfY"
      },
      "source": [
        "# Nested Dictionary to Pandas DF"
      ]
    },
    {
      "cell_type": "code",
      "metadata": {
        "id": "RAUQ2rk9WN6h"
      },
      "source": [
        "list = [\n",
        "        {\n",
        "        \"Student\": [{\"Exam\": 90, \"Grade\": \"a\"},\n",
        "                    {\"Exam\": 99, \"Grade\": \"b\"},\n",
        "                    {\"Exam\": 97, \"Grade\": \"c\"},\n",
        "                   ],\n",
        "        \"Name\": \"Paras Jain\"\n",
        "        },\n",
        "        {\n",
        "        \"Student\": [{\"Exam\": 89, \"Grade\": \"a\"},\n",
        "                    {\"Exam\": 80, \"Grade\": \"b\"}\n",
        "                   ],\n",
        "        \"Name\": \"Chunky Pandey\"\n",
        "        }\n",
        "       ]\n",
        "# json.dumps(list)\n",
        "# ''.join(str(dic) for dic in list)"
      ],
      "execution_count": null,
      "outputs": []
    },
    {
      "cell_type": "code",
      "metadata": {
        "colab": {
          "base_uri": "https://localhost:8080/",
          "height": 202
        },
        "id": "cN76aOLLXqs6",
        "outputId": "df8c2d4a-4ecd-412a-d0eb-0057753a21a1"
      },
      "source": [
        "df = pd.json_normalize(list, record_path='Student', meta = 'Name')\n",
        "df"
      ],
      "execution_count": null,
      "outputs": [
        {
          "output_type": "execute_result",
          "data": {
            "text/html": [
              "<div>\n",
              "<style scoped>\n",
              "    .dataframe tbody tr th:only-of-type {\n",
              "        vertical-align: middle;\n",
              "    }\n",
              "\n",
              "    .dataframe tbody tr th {\n",
              "        vertical-align: top;\n",
              "    }\n",
              "\n",
              "    .dataframe thead th {\n",
              "        text-align: right;\n",
              "    }\n",
              "</style>\n",
              "<table border=\"1\" class=\"dataframe\">\n",
              "  <thead>\n",
              "    <tr style=\"text-align: right;\">\n",
              "      <th></th>\n",
              "      <th>Exam</th>\n",
              "      <th>Grade</th>\n",
              "      <th>Name</th>\n",
              "    </tr>\n",
              "  </thead>\n",
              "  <tbody>\n",
              "    <tr>\n",
              "      <th>0</th>\n",
              "      <td>90</td>\n",
              "      <td>a</td>\n",
              "      <td>Paras Jain</td>\n",
              "    </tr>\n",
              "    <tr>\n",
              "      <th>1</th>\n",
              "      <td>99</td>\n",
              "      <td>b</td>\n",
              "      <td>Paras Jain</td>\n",
              "    </tr>\n",
              "    <tr>\n",
              "      <th>2</th>\n",
              "      <td>97</td>\n",
              "      <td>c</td>\n",
              "      <td>Paras Jain</td>\n",
              "    </tr>\n",
              "    <tr>\n",
              "      <th>3</th>\n",
              "      <td>89</td>\n",
              "      <td>a</td>\n",
              "      <td>Chunky Pandey</td>\n",
              "    </tr>\n",
              "    <tr>\n",
              "      <th>4</th>\n",
              "      <td>80</td>\n",
              "      <td>b</td>\n",
              "      <td>Chunky Pandey</td>\n",
              "    </tr>\n",
              "  </tbody>\n",
              "</table>\n",
              "</div>"
            ],
            "text/plain": [
              "   Exam Grade           Name\n",
              "0    90     a     Paras Jain\n",
              "1    99     b     Paras Jain\n",
              "2    97     c     Paras Jain\n",
              "3    89     a  Chunky Pandey\n",
              "4    80     b  Chunky Pandey"
            ]
          },
          "metadata": {
            "tags": []
          },
          "execution_count": 62
        }
      ]
    },
    {
      "cell_type": "code",
      "metadata": {
        "colab": {
          "base_uri": "https://localhost:8080/",
          "height": 171
        },
        "id": "azSf0YEaYxMx",
        "outputId": "854c15b0-9f36-4650-ba26-13f5c7557bf3"
      },
      "source": [
        "df.pivot_table(index='Name', columns = 'Grade', values=['Exam'])"
      ],
      "execution_count": null,
      "outputs": [
        {
          "output_type": "execute_result",
          "data": {
            "text/html": [
              "<div>\n",
              "<style scoped>\n",
              "    .dataframe tbody tr th:only-of-type {\n",
              "        vertical-align: middle;\n",
              "    }\n",
              "\n",
              "    .dataframe tbody tr th {\n",
              "        vertical-align: top;\n",
              "    }\n",
              "\n",
              "    .dataframe thead tr th {\n",
              "        text-align: left;\n",
              "    }\n",
              "\n",
              "    .dataframe thead tr:last-of-type th {\n",
              "        text-align: right;\n",
              "    }\n",
              "</style>\n",
              "<table border=\"1\" class=\"dataframe\">\n",
              "  <thead>\n",
              "    <tr>\n",
              "      <th></th>\n",
              "      <th colspan=\"3\" halign=\"left\">Exam</th>\n",
              "    </tr>\n",
              "    <tr>\n",
              "      <th>Grade</th>\n",
              "      <th>a</th>\n",
              "      <th>b</th>\n",
              "      <th>c</th>\n",
              "    </tr>\n",
              "    <tr>\n",
              "      <th>Name</th>\n",
              "      <th></th>\n",
              "      <th></th>\n",
              "      <th></th>\n",
              "    </tr>\n",
              "  </thead>\n",
              "  <tbody>\n",
              "    <tr>\n",
              "      <th>Chunky Pandey</th>\n",
              "      <td>89.0</td>\n",
              "      <td>80.0</td>\n",
              "      <td>NaN</td>\n",
              "    </tr>\n",
              "    <tr>\n",
              "      <th>Paras Jain</th>\n",
              "      <td>90.0</td>\n",
              "      <td>99.0</td>\n",
              "      <td>97.0</td>\n",
              "    </tr>\n",
              "  </tbody>\n",
              "</table>\n",
              "</div>"
            ],
            "text/plain": [
              "               Exam            \n",
              "Grade             a     b     c\n",
              "Name                           \n",
              "Chunky Pandey  89.0  80.0   NaN\n",
              "Paras Jain     90.0  99.0  97.0"
            ]
          },
          "metadata": {
            "tags": []
          },
          "execution_count": 63
        }
      ]
    },
    {
      "cell_type": "markdown",
      "metadata": {
        "id": "xQSo6j5vaG4f"
      },
      "source": [
        "# Oldest survivor per passenger class"
      ]
    },
    {
      "cell_type": "markdown",
      "metadata": {
        "id": "5BBOPlKcaMgx"
      },
      "source": [
        "Find the oldest survivor of each passenger class.\n",
        "Output the name and the age of the survivor along with the corresponding passenger class."
      ]
    },
    {
      "cell_type": "code",
      "metadata": {
        "colab": {
          "base_uri": "https://localhost:8080/",
          "height": 202
        },
        "id": "pTOinpZLaHYF",
        "outputId": "57d133c8-39bb-4fca-b8a8-d8615ecdbffe"
      },
      "source": [
        "titanic = pd.read_csv('Titanic.csv')\n",
        "titanic.head()"
      ],
      "execution_count": null,
      "outputs": [
        {
          "output_type": "execute_result",
          "data": {
            "text/html": [
              "<div>\n",
              "<style scoped>\n",
              "    .dataframe tbody tr th:only-of-type {\n",
              "        vertical-align: middle;\n",
              "    }\n",
              "\n",
              "    .dataframe tbody tr th {\n",
              "        vertical-align: top;\n",
              "    }\n",
              "\n",
              "    .dataframe thead th {\n",
              "        text-align: right;\n",
              "    }\n",
              "</style>\n",
              "<table border=\"1\" class=\"dataframe\">\n",
              "  <thead>\n",
              "    <tr style=\"text-align: right;\">\n",
              "      <th></th>\n",
              "      <th>passengerid</th>\n",
              "      <th>survived</th>\n",
              "      <th>pclass</th>\n",
              "      <th>name</th>\n",
              "      <th>sex</th>\n",
              "      <th>age</th>\n",
              "      <th>sibsp</th>\n",
              "      <th>parch</th>\n",
              "      <th>ticket</th>\n",
              "      <th>fare</th>\n",
              "      <th>cabin</th>\n",
              "      <th>embarked</th>\n",
              "    </tr>\n",
              "  </thead>\n",
              "  <tbody>\n",
              "    <tr>\n",
              "      <th>0</th>\n",
              "      <td>1</td>\n",
              "      <td>0</td>\n",
              "      <td>3</td>\n",
              "      <td>Braund, Mr. Owen Harris</td>\n",
              "      <td>male</td>\n",
              "      <td>22.0</td>\n",
              "      <td>1</td>\n",
              "      <td>0</td>\n",
              "      <td>A/5 21171</td>\n",
              "      <td>7.250</td>\n",
              "      <td>NaN</td>\n",
              "      <td>S</td>\n",
              "    </tr>\n",
              "    <tr>\n",
              "      <th>1</th>\n",
              "      <td>2</td>\n",
              "      <td>1</td>\n",
              "      <td>1</td>\n",
              "      <td>Cumings, Mrs. John Bradley (Florence Briggs Th...</td>\n",
              "      <td>female</td>\n",
              "      <td>38.0</td>\n",
              "      <td>1</td>\n",
              "      <td>0</td>\n",
              "      <td>PC 17599</td>\n",
              "      <td>71.283</td>\n",
              "      <td>C85</td>\n",
              "      <td>C</td>\n",
              "    </tr>\n",
              "    <tr>\n",
              "      <th>2</th>\n",
              "      <td>3</td>\n",
              "      <td>1</td>\n",
              "      <td>3</td>\n",
              "      <td>Heikkinen, Miss. Laina</td>\n",
              "      <td>female</td>\n",
              "      <td>26.0</td>\n",
              "      <td>0</td>\n",
              "      <td>0</td>\n",
              "      <td>STON/O2. 3101282</td>\n",
              "      <td>7.925</td>\n",
              "      <td>NaN</td>\n",
              "      <td>S</td>\n",
              "    </tr>\n",
              "    <tr>\n",
              "      <th>3</th>\n",
              "      <td>4</td>\n",
              "      <td>1</td>\n",
              "      <td>1</td>\n",
              "      <td>Futrelle, Mrs. Jacques Heath (Lily May Peel)</td>\n",
              "      <td>female</td>\n",
              "      <td>35.0</td>\n",
              "      <td>1</td>\n",
              "      <td>0</td>\n",
              "      <td>113803</td>\n",
              "      <td>53.100</td>\n",
              "      <td>C123</td>\n",
              "      <td>S</td>\n",
              "    </tr>\n",
              "    <tr>\n",
              "      <th>4</th>\n",
              "      <td>5</td>\n",
              "      <td>0</td>\n",
              "      <td>3</td>\n",
              "      <td>Allen, Mr. William Henry</td>\n",
              "      <td>male</td>\n",
              "      <td>35.0</td>\n",
              "      <td>0</td>\n",
              "      <td>0</td>\n",
              "      <td>373450</td>\n",
              "      <td>8.050</td>\n",
              "      <td>NaN</td>\n",
              "      <td>S</td>\n",
              "    </tr>\n",
              "  </tbody>\n",
              "</table>\n",
              "</div>"
            ],
            "text/plain": [
              "   passengerid  survived  pclass  ...    fare cabin  embarked\n",
              "0            1         0       3  ...   7.250   NaN         S\n",
              "1            2         1       1  ...  71.283   C85         C\n",
              "2            3         1       3  ...   7.925   NaN         S\n",
              "3            4         1       1  ...  53.100  C123         S\n",
              "4            5         0       3  ...   8.050   NaN         S\n",
              "\n",
              "[5 rows x 12 columns]"
            ]
          },
          "metadata": {
            "tags": []
          },
          "execution_count": 5
        }
      ]
    },
    {
      "cell_type": "code",
      "metadata": {
        "colab": {
          "base_uri": "https://localhost:8080/"
        },
        "id": "mwdq69r_anFc",
        "outputId": "6d3f71a7-ff21-4629-c960-a8321102c7cd"
      },
      "source": [
        "#the idxmax returns the indices of the largest age per group which can then be retrieved with the loc function\n",
        "titanic[titanic.survived==1].groupby('pclass').age.idxmax()"
      ],
      "execution_count": null,
      "outputs": [
        {
          "output_type": "execute_result",
          "data": {
            "text/plain": [
              "pclass\n",
              "1    630\n",
              "2    570\n",
              "3    483\n",
              "Name: age, dtype: int64"
            ]
          },
          "metadata": {
            "tags": []
          },
          "execution_count": 7
        }
      ]
    },
    {
      "cell_type": "code",
      "metadata": {
        "colab": {
          "base_uri": "https://localhost:8080/",
          "height": 141
        },
        "id": "PiojjxI7ab0c",
        "outputId": "55c684a4-dba4-4468-a48d-bd45db9b4d8f"
      },
      "source": [
        "titanic.loc[titanic[titanic.survived==1].groupby('pclass').age.idxmax()][['pclass', 'name', 'age']]"
      ],
      "execution_count": null,
      "outputs": [
        {
          "output_type": "execute_result",
          "data": {
            "text/html": [
              "<div>\n",
              "<style scoped>\n",
              "    .dataframe tbody tr th:only-of-type {\n",
              "        vertical-align: middle;\n",
              "    }\n",
              "\n",
              "    .dataframe tbody tr th {\n",
              "        vertical-align: top;\n",
              "    }\n",
              "\n",
              "    .dataframe thead th {\n",
              "        text-align: right;\n",
              "    }\n",
              "</style>\n",
              "<table border=\"1\" class=\"dataframe\">\n",
              "  <thead>\n",
              "    <tr style=\"text-align: right;\">\n",
              "      <th></th>\n",
              "      <th>pclass</th>\n",
              "      <th>name</th>\n",
              "      <th>age</th>\n",
              "    </tr>\n",
              "  </thead>\n",
              "  <tbody>\n",
              "    <tr>\n",
              "      <th>630</th>\n",
              "      <td>1</td>\n",
              "      <td>Barkworth, Mr. Algernon Henry Wilson</td>\n",
              "      <td>80.0</td>\n",
              "    </tr>\n",
              "    <tr>\n",
              "      <th>570</th>\n",
              "      <td>2</td>\n",
              "      <td>Harris, Mr. George</td>\n",
              "      <td>62.0</td>\n",
              "    </tr>\n",
              "    <tr>\n",
              "      <th>483</th>\n",
              "      <td>3</td>\n",
              "      <td>Turkula, Mrs. (Hedwig)</td>\n",
              "      <td>63.0</td>\n",
              "    </tr>\n",
              "  </tbody>\n",
              "</table>\n",
              "</div>"
            ],
            "text/plain": [
              "     pclass                                  name   age\n",
              "630       1  Barkworth, Mr. Algernon Henry Wilson  80.0\n",
              "570       2                    Harris, Mr. George  62.0\n",
              "483       3                Turkula, Mrs. (Hedwig)  63.0"
            ]
          },
          "metadata": {
            "tags": []
          },
          "execution_count": 6
        }
      ]
    },
    {
      "cell_type": "markdown",
      "metadata": {
        "id": "Riy6bCc8anvs"
      },
      "source": [
        "# Find the number of times each word appears in drafts"
      ]
    },
    {
      "cell_type": "code",
      "metadata": {
        "colab": {
          "base_uri": "https://localhost:8080/",
          "height": 141
        },
        "id": "mW53VnUD4-RA",
        "outputId": "6d7dc076-3040-4337-f315-6b41c4d6655b"
      },
      "source": [
        "from collections import Counter\n",
        "\n",
        "google_file_store = pd.read_excel('google_file_store.xlsx')\n",
        "google_file_store"
      ],
      "execution_count": null,
      "outputs": [
        {
          "output_type": "execute_result",
          "data": {
            "text/html": [
              "<div>\n",
              "<style scoped>\n",
              "    .dataframe tbody tr th:only-of-type {\n",
              "        vertical-align: middle;\n",
              "    }\n",
              "\n",
              "    .dataframe tbody tr th {\n",
              "        vertical-align: top;\n",
              "    }\n",
              "\n",
              "    .dataframe thead th {\n",
              "        text-align: right;\n",
              "    }\n",
              "</style>\n",
              "<table border=\"1\" class=\"dataframe\">\n",
              "  <thead>\n",
              "    <tr style=\"text-align: right;\">\n",
              "      <th></th>\n",
              "      <th>filename</th>\n",
              "      <th>contents</th>\n",
              "    </tr>\n",
              "  </thead>\n",
              "  <tbody>\n",
              "    <tr>\n",
              "      <th>0</th>\n",
              "      <td>draft1.txt</td>\n",
              "      <td>The stock exchange predicts a bull market whic...</td>\n",
              "    </tr>\n",
              "    <tr>\n",
              "      <th>1</th>\n",
              "      <td>draft2.txt</td>\n",
              "      <td>The stock exchange predicts a bull market whic...</td>\n",
              "    </tr>\n",
              "    <tr>\n",
              "      <th>2</th>\n",
              "      <td>final.txt</td>\n",
              "      <td>The stock exchange predicts a bull market whic...</td>\n",
              "    </tr>\n",
              "  </tbody>\n",
              "</table>\n",
              "</div>"
            ],
            "text/plain": [
              "     filename                                           contents\n",
              "0  draft1.txt  The stock exchange predicts a bull market whic...\n",
              "1  draft2.txt  The stock exchange predicts a bull market whic...\n",
              "2   final.txt  The stock exchange predicts a bull market whic..."
            ]
          },
          "metadata": {
            "tags": []
          },
          "execution_count": 5
        }
      ]
    },
    {
      "cell_type": "code",
      "metadata": {
        "colab": {
          "base_uri": "https://localhost:8080/",
          "height": 998
        },
        "id": "LcYgKfLc5NSV",
        "outputId": "2c9ac206-167f-46b3-9123-01ff95e83b5d"
      },
      "source": [
        "df = google_file_store[google_file_store.filename.str.contains('draft')]\n",
        "words = Counter([word for sublist in df.contents.str.split() for word in sublist])\n",
        "pd.DataFrame(words.items(), columns = ['word', 'nentry'])"
      ],
      "execution_count": null,
      "outputs": [
        {
          "output_type": "execute_result",
          "data": {
            "text/html": [
              "<div>\n",
              "<style scoped>\n",
              "    .dataframe tbody tr th:only-of-type {\n",
              "        vertical-align: middle;\n",
              "    }\n",
              "\n",
              "    .dataframe tbody tr th {\n",
              "        vertical-align: top;\n",
              "    }\n",
              "\n",
              "    .dataframe thead th {\n",
              "        text-align: right;\n",
              "    }\n",
              "</style>\n",
              "<table border=\"1\" class=\"dataframe\">\n",
              "  <thead>\n",
              "    <tr style=\"text-align: right;\">\n",
              "      <th></th>\n",
              "      <th>word</th>\n",
              "      <th>nentry</th>\n",
              "    </tr>\n",
              "  </thead>\n",
              "  <tbody>\n",
              "    <tr>\n",
              "      <th>0</th>\n",
              "      <td>The</td>\n",
              "      <td>2</td>\n",
              "    </tr>\n",
              "    <tr>\n",
              "      <th>1</th>\n",
              "      <td>stock</td>\n",
              "      <td>2</td>\n",
              "    </tr>\n",
              "    <tr>\n",
              "      <th>2</th>\n",
              "      <td>exchange</td>\n",
              "      <td>2</td>\n",
              "    </tr>\n",
              "    <tr>\n",
              "      <th>3</th>\n",
              "      <td>predicts</td>\n",
              "      <td>2</td>\n",
              "    </tr>\n",
              "    <tr>\n",
              "      <th>4</th>\n",
              "      <td>a</td>\n",
              "      <td>3</td>\n",
              "    </tr>\n",
              "    <tr>\n",
              "      <th>5</th>\n",
              "      <td>bull</td>\n",
              "      <td>2</td>\n",
              "    </tr>\n",
              "    <tr>\n",
              "      <th>6</th>\n",
              "      <td>market</td>\n",
              "      <td>2</td>\n",
              "    </tr>\n",
              "    <tr>\n",
              "      <th>7</th>\n",
              "      <td>which</td>\n",
              "      <td>2</td>\n",
              "    </tr>\n",
              "    <tr>\n",
              "      <th>8</th>\n",
              "      <td>would</td>\n",
              "      <td>2</td>\n",
              "    </tr>\n",
              "    <tr>\n",
              "      <th>9</th>\n",
              "      <td>make</td>\n",
              "      <td>2</td>\n",
              "    </tr>\n",
              "    <tr>\n",
              "      <th>10</th>\n",
              "      <td>many</td>\n",
              "      <td>2</td>\n",
              "    </tr>\n",
              "    <tr>\n",
              "      <th>11</th>\n",
              "      <td>investors</td>\n",
              "      <td>2</td>\n",
              "    </tr>\n",
              "    <tr>\n",
              "      <th>12</th>\n",
              "      <td>happy.</td>\n",
              "      <td>1</td>\n",
              "    </tr>\n",
              "    <tr>\n",
              "      <th>13</th>\n",
              "      <td>happy,</td>\n",
              "      <td>1</td>\n",
              "    </tr>\n",
              "    <tr>\n",
              "      <th>14</th>\n",
              "      <td>but</td>\n",
              "      <td>1</td>\n",
              "    </tr>\n",
              "    <tr>\n",
              "      <th>15</th>\n",
              "      <td>analysts</td>\n",
              "      <td>1</td>\n",
              "    </tr>\n",
              "    <tr>\n",
              "      <th>16</th>\n",
              "      <td>warn</td>\n",
              "      <td>1</td>\n",
              "    </tr>\n",
              "    <tr>\n",
              "      <th>17</th>\n",
              "      <td>of</td>\n",
              "      <td>2</td>\n",
              "    </tr>\n",
              "    <tr>\n",
              "      <th>18</th>\n",
              "      <td>possibility</td>\n",
              "      <td>1</td>\n",
              "    </tr>\n",
              "    <tr>\n",
              "      <th>19</th>\n",
              "      <td>too</td>\n",
              "      <td>1</td>\n",
              "    </tr>\n",
              "    <tr>\n",
              "      <th>20</th>\n",
              "      <td>much</td>\n",
              "      <td>1</td>\n",
              "    </tr>\n",
              "    <tr>\n",
              "      <th>21</th>\n",
              "      <td>optimism</td>\n",
              "      <td>1</td>\n",
              "    </tr>\n",
              "    <tr>\n",
              "      <th>22</th>\n",
              "      <td>and</td>\n",
              "      <td>1</td>\n",
              "    </tr>\n",
              "    <tr>\n",
              "      <th>23</th>\n",
              "      <td>that</td>\n",
              "      <td>1</td>\n",
              "    </tr>\n",
              "    <tr>\n",
              "      <th>24</th>\n",
              "      <td>in</td>\n",
              "      <td>1</td>\n",
              "    </tr>\n",
              "    <tr>\n",
              "      <th>25</th>\n",
              "      <td>fact</td>\n",
              "      <td>1</td>\n",
              "    </tr>\n",
              "    <tr>\n",
              "      <th>26</th>\n",
              "      <td>we</td>\n",
              "      <td>1</td>\n",
              "    </tr>\n",
              "    <tr>\n",
              "      <th>27</th>\n",
              "      <td>are</td>\n",
              "      <td>1</td>\n",
              "    </tr>\n",
              "    <tr>\n",
              "      <th>28</th>\n",
              "      <td>awaiting</td>\n",
              "      <td>1</td>\n",
              "    </tr>\n",
              "    <tr>\n",
              "      <th>29</th>\n",
              "      <td>bear</td>\n",
              "      <td>1</td>\n",
              "    </tr>\n",
              "    <tr>\n",
              "      <th>30</th>\n",
              "      <td>market.</td>\n",
              "      <td>1</td>\n",
              "    </tr>\n",
              "  </tbody>\n",
              "</table>\n",
              "</div>"
            ],
            "text/plain": [
              "           word  nentry\n",
              "0           The       2\n",
              "1         stock       2\n",
              "2      exchange       2\n",
              "3      predicts       2\n",
              "4             a       3\n",
              "5          bull       2\n",
              "6        market       2\n",
              "7         which       2\n",
              "8         would       2\n",
              "9          make       2\n",
              "10         many       2\n",
              "11    investors       2\n",
              "12       happy.       1\n",
              "13       happy,       1\n",
              "14          but       1\n",
              "15     analysts       1\n",
              "16         warn       1\n",
              "17           of       2\n",
              "18  possibility       1\n",
              "19          too       1\n",
              "20         much       1\n",
              "21     optimism       1\n",
              "22          and       1\n",
              "23         that       1\n",
              "24           in       1\n",
              "25         fact       1\n",
              "26           we       1\n",
              "27          are       1\n",
              "28     awaiting       1\n",
              "29         bear       1\n",
              "30      market.       1"
            ]
          },
          "metadata": {
            "tags": []
          },
          "execution_count": 6
        }
      ]
    },
    {
      "cell_type": "markdown",
      "metadata": {
        "id": "8a_B1ndvsKCD"
      },
      "source": [
        "# Most Popular Streets"
      ]
    },
    {
      "cell_type": "markdown",
      "metadata": {
        "id": "y2WUx004zBYD"
      },
      "source": [
        "Find the most popular street for low, moderate, and high-risk categories based on the number of incidents per each category. Output the street name along with the popularity and the corresponding risk category."
      ]
    },
    {
      "cell_type": "code",
      "metadata": {
        "colab": {
          "base_uri": "https://localhost:8080/",
          "height": 405
        },
        "id": "uXUJmpAysKgp",
        "outputId": "36b0ed8f-7513-4616-c1fd-7ca1f2e5e6ea"
      },
      "source": [
        "import re\n",
        "la = pd.read_csv('LA_Inspections.csv')\n",
        "la.head()"
      ],
      "execution_count": null,
      "outputs": [
        {
          "output_type": "execute_result",
          "data": {
            "text/html": [
              "<div>\n",
              "<style scoped>\n",
              "    .dataframe tbody tr th:only-of-type {\n",
              "        vertical-align: middle;\n",
              "    }\n",
              "\n",
              "    .dataframe tbody tr th {\n",
              "        vertical-align: top;\n",
              "    }\n",
              "\n",
              "    .dataframe thead th {\n",
              "        text-align: right;\n",
              "    }\n",
              "</style>\n",
              "<table border=\"1\" class=\"dataframe\">\n",
              "  <thead>\n",
              "    <tr style=\"text-align: right;\">\n",
              "      <th></th>\n",
              "      <th>serial_number</th>\n",
              "      <th>activity_date</th>\n",
              "      <th>facility_name</th>\n",
              "      <th>score</th>\n",
              "      <th>grade</th>\n",
              "      <th>service_code</th>\n",
              "      <th>service_description</th>\n",
              "      <th>employee_id</th>\n",
              "      <th>facility_address</th>\n",
              "      <th>facility_city</th>\n",
              "      <th>facility_id</th>\n",
              "      <th>facility_state</th>\n",
              "      <th>facility_zip</th>\n",
              "      <th>owner_id</th>\n",
              "      <th>owner_name</th>\n",
              "      <th>pe_description</th>\n",
              "      <th>program_element_pe</th>\n",
              "      <th>program_name</th>\n",
              "      <th>program_status</th>\n",
              "      <th>record_id</th>\n",
              "    </tr>\n",
              "  </thead>\n",
              "  <tbody>\n",
              "    <tr>\n",
              "      <th>0</th>\n",
              "      <td>DAQHRSETQ</td>\n",
              "      <td>6/8/2017 0:00</td>\n",
              "      <td>MARGARITAS CAFE</td>\n",
              "      <td>93</td>\n",
              "      <td>A</td>\n",
              "      <td>1</td>\n",
              "      <td>ROUTINE INSPECTION</td>\n",
              "      <td>EE0000006</td>\n",
              "      <td>5026 S CRENSHAW BLVD</td>\n",
              "      <td>LOS ANGELES</td>\n",
              "      <td>FA0023656</td>\n",
              "      <td>CA</td>\n",
              "      <td>90043</td>\n",
              "      <td>OW0004133</td>\n",
              "      <td>BAZAN, ASCENCION</td>\n",
              "      <td>RESTAURANT (61-150) SEATS HIGH RISK</td>\n",
              "      <td>1638</td>\n",
              "      <td>MARGARITAS CAFE</td>\n",
              "      <td>ACTIVE</td>\n",
              "      <td>PR0011718</td>\n",
              "    </tr>\n",
              "    <tr>\n",
              "      <th>1</th>\n",
              "      <td>DA2GQRJOS</td>\n",
              "      <td>3/7/2017 0:00</td>\n",
              "      <td>LAS MOLENDERAS</td>\n",
              "      <td>97</td>\n",
              "      <td>A</td>\n",
              "      <td>1</td>\n",
              "      <td>ROUTINE INSPECTION</td>\n",
              "      <td>EE0000997</td>\n",
              "      <td>2635 WHITTIER BLVD</td>\n",
              "      <td>LOS ANGELES</td>\n",
              "      <td>FA0160416</td>\n",
              "      <td>CA</td>\n",
              "      <td>90023</td>\n",
              "      <td>OW0125379</td>\n",
              "      <td>MARISOL FEREGRINO</td>\n",
              "      <td>RESTAURANT (0-30) SEATS HIGH RISK</td>\n",
              "      <td>1632</td>\n",
              "      <td>LAS MOLENDERAS</td>\n",
              "      <td>INACTIVE</td>\n",
              "      <td>PR0148504</td>\n",
              "    </tr>\n",
              "    <tr>\n",
              "      <th>2</th>\n",
              "      <td>DAMQTA46T</td>\n",
              "      <td>3/22/2016 0:00</td>\n",
              "      <td>SANDRA'S TAMALES</td>\n",
              "      <td>93</td>\n",
              "      <td>A</td>\n",
              "      <td>1</td>\n",
              "      <td>ROUTINE INSPECTION</td>\n",
              "      <td>EE0001049</td>\n",
              "      <td>5390 WHITTIER BLVD</td>\n",
              "      <td>LOS ANGELES</td>\n",
              "      <td>FA0171769</td>\n",
              "      <td>CA</td>\n",
              "      <td>90022-4032</td>\n",
              "      <td>OW0178828</td>\n",
              "      <td>SANDRA'S TAMALES INC.</td>\n",
              "      <td>RESTAURANT (0-30) SEATS MODERATE RISK</td>\n",
              "      <td>1631</td>\n",
              "      <td>SANDRA'S TAMALES</td>\n",
              "      <td>ACTIVE</td>\n",
              "      <td>PR0164225</td>\n",
              "    </tr>\n",
              "    <tr>\n",
              "      <th>3</th>\n",
              "      <td>DAXMBTIRZ</td>\n",
              "      <td>2/12/2018 0:00</td>\n",
              "      <td>CAFE GRATITUDE</td>\n",
              "      <td>97</td>\n",
              "      <td>A</td>\n",
              "      <td>1</td>\n",
              "      <td>ROUTINE INSPECTION</td>\n",
              "      <td>EE0000828</td>\n",
              "      <td>639 N LARCHMONT BLVD STE #102</td>\n",
              "      <td>LOS ANGELES</td>\n",
              "      <td>FA0058921</td>\n",
              "      <td>CA</td>\n",
              "      <td>90004</td>\n",
              "      <td>OW0005704</td>\n",
              "      <td>CAFE GRATITUDE LARCHMONT LLC</td>\n",
              "      <td>RESTAURANT (61-150) SEATS HIGH RISK</td>\n",
              "      <td>1638</td>\n",
              "      <td>CAFE GRATITUDE</td>\n",
              "      <td>ACTIVE</td>\n",
              "      <td>PR0019854</td>\n",
              "    </tr>\n",
              "    <tr>\n",
              "      <th>4</th>\n",
              "      <td>DAK8TBMS0</td>\n",
              "      <td>9/10/2015 0:00</td>\n",
              "      <td>THE WAFFLE</td>\n",
              "      <td>90</td>\n",
              "      <td>A</td>\n",
              "      <td>1</td>\n",
              "      <td>ROUTINE INSPECTION</td>\n",
              "      <td>EE0000709</td>\n",
              "      <td>6255 W SUNSET BLVD STE #105</td>\n",
              "      <td>LOS ANGELES</td>\n",
              "      <td>FA0051830</td>\n",
              "      <td>CA</td>\n",
              "      <td>90028</td>\n",
              "      <td>OW0035796</td>\n",
              "      <td>THE WAFFLE, LLC</td>\n",
              "      <td>RESTAURANT (61-150) SEATS HIGH RISK</td>\n",
              "      <td>1638</td>\n",
              "      <td>THE WAFFLE</td>\n",
              "      <td>ACTIVE</td>\n",
              "      <td>PR0010922</td>\n",
              "    </tr>\n",
              "  </tbody>\n",
              "</table>\n",
              "</div>"
            ],
            "text/plain": [
              "  serial_number   activity_date  ... program_status  record_id\n",
              "0     DAQHRSETQ   6/8/2017 0:00  ...         ACTIVE  PR0011718\n",
              "1     DA2GQRJOS   3/7/2017 0:00  ...       INACTIVE  PR0148504\n",
              "2     DAMQTA46T  3/22/2016 0:00  ...         ACTIVE  PR0164225\n",
              "3     DAXMBTIRZ  2/12/2018 0:00  ...         ACTIVE  PR0019854\n",
              "4     DAK8TBMS0  9/10/2015 0:00  ...         ACTIVE  PR0010922\n",
              "\n",
              "[5 rows x 20 columns]"
            ]
          },
          "metadata": {
            "tags": []
          },
          "execution_count": 55
        }
      ]
    },
    {
      "cell_type": "code",
      "metadata": {
        "id": "UDN85QPnxQq7"
      },
      "source": [
        "#extract the address from the street name\n",
        "def street_name(address):\n",
        "  m = re.search('(?<=\\s)\\w{3,}', address)\n",
        "  return m.group() if m else 'None'\n",
        "\n",
        "\n",
        "#extract risk category from pe_description\n",
        "def risk_cat(desc):\n",
        "  m = re.search('\\w+\\sRISK', desc)\n",
        "  return m.group() if m else 'None'\n",
        "\n",
        "\n",
        "la = la.assign(street_name = la.facility_address.apply(street_name), risk_category = la.pe_description.apply(risk_cat) )\n",
        "\n",
        "\n",
        "#return largest values\n",
        "def funct(g):\n",
        "  streets = g.groupby('street_name').facility_id.count()\n",
        "  return streets.nlargest(1, keep='all')\n",
        "\n",
        "result = la.groupby('risk_category').apply(funct)\n",
        "# la.groupby('risk_category').apply(lambda g : g.groupby('street_name').facility_id.count().nlargest(1, keep='all'))\n",
        "\n",
        "result.swaplevel()"
      ],
      "execution_count": null,
      "outputs": []
    },
    {
      "cell_type": "code",
      "metadata": {
        "id": "m1dUe2Ro_jYj"
      },
      "source": [
        "def popular_streets(df):\n",
        "  #extract the address from the street name\n",
        "  df['street_name'] =  df.facility_address.apply(lambda address : re.search('(?<=\\s)\\w{3,}', address).group() )\n",
        "\n",
        "  #extract risk category from pe_description\n",
        "  df['risk_category'] = df.pe_description.apply(lambda desc : re.search('\\w+\\sRISK', desc).group() )\n",
        "\n",
        "  #return largest values\n",
        "  table = df.groupby('risk_category').apply(lambda g : g.groupby('street_name').facility_id.count().nlargest(1, keep='all'))\n",
        "\n",
        "  return table.swaplevel()\n",
        "\n",
        "popular_streets(la)"
      ],
      "execution_count": null,
      "outputs": []
    },
    {
      "cell_type": "markdown",
      "metadata": {
        "id": "znoGM7nCPuKz"
      },
      "source": [
        "# Maximum Number of Employees Reached\n"
      ]
    },
    {
      "cell_type": "markdown",
      "metadata": {
        "id": "hUBqW98ONxAq"
      },
      "source": [
        "Write a query that returns every employee that has ever worked for the company. For each employee, calculate the greatest number of employees that worked for the company during their tenure and the first date that number was reached."
      ]
    },
    {
      "cell_type": "code",
      "metadata": {
        "colab": {
          "base_uri": "https://localhost:8080/",
          "height": 232
        },
        "id": "-x-jP-iwNto6",
        "outputId": "35cd802e-05c9-493b-838a-7454a5cce54f"
      },
      "source": [
        "ue = pd.read_csv('Uber_employees.csv', index_col=['id'], usecols=['id','hire_date', 'termination_date'], parse_dates=[1,2])\n",
        "ue.head()"
      ],
      "execution_count": 2,
      "outputs": [
        {
          "output_type": "execute_result",
          "data": {
            "text/html": [
              "<div>\n",
              "<style scoped>\n",
              "    .dataframe tbody tr th:only-of-type {\n",
              "        vertical-align: middle;\n",
              "    }\n",
              "\n",
              "    .dataframe tbody tr th {\n",
              "        vertical-align: top;\n",
              "    }\n",
              "\n",
              "    .dataframe thead th {\n",
              "        text-align: right;\n",
              "    }\n",
              "</style>\n",
              "<table border=\"1\" class=\"dataframe\">\n",
              "  <thead>\n",
              "    <tr style=\"text-align: right;\">\n",
              "      <th></th>\n",
              "      <th>hire_date</th>\n",
              "      <th>termination_date</th>\n",
              "    </tr>\n",
              "    <tr>\n",
              "      <th>id</th>\n",
              "      <th></th>\n",
              "      <th></th>\n",
              "    </tr>\n",
              "  </thead>\n",
              "  <tbody>\n",
              "    <tr>\n",
              "      <th>1</th>\n",
              "      <td>2009-02-03</td>\n",
              "      <td>2016-01-01</td>\n",
              "    </tr>\n",
              "    <tr>\n",
              "      <th>2</th>\n",
              "      <td>2009-02-03</td>\n",
              "      <td>NaT</td>\n",
              "    </tr>\n",
              "    <tr>\n",
              "      <th>3</th>\n",
              "      <td>2009-02-03</td>\n",
              "      <td>NaT</td>\n",
              "    </tr>\n",
              "    <tr>\n",
              "      <th>4</th>\n",
              "      <td>2009-04-15</td>\n",
              "      <td>2014-01-01</td>\n",
              "    </tr>\n",
              "    <tr>\n",
              "      <th>5</th>\n",
              "      <td>2009-02-03</td>\n",
              "      <td>NaT</td>\n",
              "    </tr>\n",
              "  </tbody>\n",
              "</table>\n",
              "</div>"
            ],
            "text/plain": [
              "    hire_date termination_date\n",
              "id                            \n",
              "1  2009-02-03       2016-01-01\n",
              "2  2009-02-03              NaT\n",
              "3  2009-02-03              NaT\n",
              "4  2009-04-15       2014-01-01\n",
              "5  2009-02-03              NaT"
            ]
          },
          "metadata": {
            "tags": []
          },
          "execution_count": 2
        }
      ]
    },
    {
      "cell_type": "code",
      "metadata": {
        "colab": {
          "base_uri": "https://localhost:8080/",
          "height": 445
        },
        "id": "_zOwIo916elv",
        "outputId": "9b6dbfa8-5d27-47f7-f3d1-b4ee683d6012"
      },
      "source": [
        "#fillna for currently employed with the latest month's end\n",
        "from pandas.tseries.offsets import MonthEnd\n",
        "range_end = ue.termination_date.max() + MonthEnd(1)\n",
        "ue = ue.fillna(range_end)\n",
        "ue"
      ],
      "execution_count": null,
      "outputs": [
        {
          "output_type": "execute_result",
          "data": {
            "text/html": [
              "<div>\n",
              "<style scoped>\n",
              "    .dataframe tbody tr th:only-of-type {\n",
              "        vertical-align: middle;\n",
              "    }\n",
              "\n",
              "    .dataframe tbody tr th {\n",
              "        vertical-align: top;\n",
              "    }\n",
              "\n",
              "    .dataframe thead th {\n",
              "        text-align: right;\n",
              "    }\n",
              "</style>\n",
              "<table border=\"1\" class=\"dataframe\">\n",
              "  <thead>\n",
              "    <tr style=\"text-align: right;\">\n",
              "      <th></th>\n",
              "      <th>hire_date</th>\n",
              "      <th>termination_date</th>\n",
              "    </tr>\n",
              "    <tr>\n",
              "      <th>id</th>\n",
              "      <th></th>\n",
              "      <th></th>\n",
              "    </tr>\n",
              "  </thead>\n",
              "  <tbody>\n",
              "    <tr>\n",
              "      <th>1</th>\n",
              "      <td>2009-02-03</td>\n",
              "      <td>2016-01-01</td>\n",
              "    </tr>\n",
              "    <tr>\n",
              "      <th>2</th>\n",
              "      <td>2009-02-03</td>\n",
              "      <td>2019-11-30</td>\n",
              "    </tr>\n",
              "    <tr>\n",
              "      <th>3</th>\n",
              "      <td>2009-02-03</td>\n",
              "      <td>2019-11-30</td>\n",
              "    </tr>\n",
              "    <tr>\n",
              "      <th>4</th>\n",
              "      <td>2009-04-15</td>\n",
              "      <td>2014-01-01</td>\n",
              "    </tr>\n",
              "    <tr>\n",
              "      <th>5</th>\n",
              "      <td>2009-02-03</td>\n",
              "      <td>2019-11-30</td>\n",
              "    </tr>\n",
              "    <tr>\n",
              "      <th>...</th>\n",
              "      <td>...</td>\n",
              "      <td>...</td>\n",
              "    </tr>\n",
              "    <tr>\n",
              "      <th>96</th>\n",
              "      <td>2019-08-13</td>\n",
              "      <td>2019-11-22</td>\n",
              "    </tr>\n",
              "    <tr>\n",
              "      <th>97</th>\n",
              "      <td>2019-11-22</td>\n",
              "      <td>2019-11-30</td>\n",
              "    </tr>\n",
              "    <tr>\n",
              "      <th>98</th>\n",
              "      <td>2019-10-09</td>\n",
              "      <td>2019-11-30</td>\n",
              "    </tr>\n",
              "    <tr>\n",
              "      <th>99</th>\n",
              "      <td>2019-10-09</td>\n",
              "      <td>2019-11-30</td>\n",
              "    </tr>\n",
              "    <tr>\n",
              "      <th>100</th>\n",
              "      <td>2019-11-22</td>\n",
              "      <td>2019-11-30</td>\n",
              "    </tr>\n",
              "  </tbody>\n",
              "</table>\n",
              "<p>100 rows × 2 columns</p>\n",
              "</div>"
            ],
            "text/plain": [
              "     hire_date termination_date\n",
              "id                             \n",
              "1   2009-02-03       2016-01-01\n",
              "2   2009-02-03       2019-11-30\n",
              "3   2009-02-03       2019-11-30\n",
              "4   2009-04-15       2014-01-01\n",
              "5   2009-02-03       2019-11-30\n",
              "..         ...              ...\n",
              "96  2019-08-13       2019-11-22\n",
              "97  2019-11-22       2019-11-30\n",
              "98  2019-10-09       2019-11-30\n",
              "99  2019-10-09       2019-11-30\n",
              "100 2019-11-22       2019-11-30\n",
              "\n",
              "[100 rows x 2 columns]"
            ]
          },
          "metadata": {
            "tags": []
          },
          "execution_count": 197
        }
      ]
    },
    {
      "cell_type": "code",
      "metadata": {
        "id": "tpRSwhoFrlNU"
      },
      "source": [
        "#create an overall timescale for the analysis\n",
        "total_range = pd.date_range(ue.hire_date.min(), range_end)\n",
        "\n",
        "#create a hire date_range for each ID\n",
        "employee_hire_range = ue.apply(lambda x : pd.date_range(x['hire_date'], x['termination_date'], closed='left'), axis=1)\n",
        "\n",
        "#create a bool matrix comparing each employee's date_range to the overall timescale\n",
        "hire_matrix = np.array([np.isin(total_range, x) for x in employee_hire_range])\n",
        "\n",
        "#generate a general daily max of employees reached throughout the total_range\n",
        "total_range_max = hire_matrix.sum(0)\n",
        "\n",
        "#create a series for the tital_range dates and total_range max_values\n",
        "series = pd.Series(index=total_range, data = total_range_max )"
      ],
      "execution_count": null,
      "outputs": []
    },
    {
      "cell_type": "code",
      "metadata": {
        "colab": {
          "base_uri": "https://localhost:8080/",
          "height": 445
        },
        "id": "lTJipIUpD8iQ",
        "outputId": "a3c5bccd-7cf5-47ef-9ce4-4df27d6cb934"
      },
      "source": [
        "pd.DataFrame([(series[hire_matrix[i]].max(), series[hire_matrix[i]].idxmax()) for i in range(ue.shape[0])], columns=['max_emp', 'mindate'], index=ue.index)"
      ],
      "execution_count": null,
      "outputs": [
        {
          "output_type": "execute_result",
          "data": {
            "text/html": [
              "<div>\n",
              "<style scoped>\n",
              "    .dataframe tbody tr th:only-of-type {\n",
              "        vertical-align: middle;\n",
              "    }\n",
              "\n",
              "    .dataframe tbody tr th {\n",
              "        vertical-align: top;\n",
              "    }\n",
              "\n",
              "    .dataframe thead th {\n",
              "        text-align: right;\n",
              "    }\n",
              "</style>\n",
              "<table border=\"1\" class=\"dataframe\">\n",
              "  <thead>\n",
              "    <tr style=\"text-align: right;\">\n",
              "      <th></th>\n",
              "      <th>max_emp</th>\n",
              "      <th>mindate</th>\n",
              "    </tr>\n",
              "    <tr>\n",
              "      <th>id</th>\n",
              "      <th></th>\n",
              "      <th></th>\n",
              "    </tr>\n",
              "  </thead>\n",
              "  <tbody>\n",
              "    <tr>\n",
              "      <th>1</th>\n",
              "      <td>57</td>\n",
              "      <td>2015-04-10</td>\n",
              "    </tr>\n",
              "    <tr>\n",
              "      <th>2</th>\n",
              "      <td>58</td>\n",
              "      <td>2017-02-03</td>\n",
              "    </tr>\n",
              "    <tr>\n",
              "      <th>3</th>\n",
              "      <td>58</td>\n",
              "      <td>2017-02-03</td>\n",
              "    </tr>\n",
              "    <tr>\n",
              "      <th>4</th>\n",
              "      <td>48</td>\n",
              "      <td>2013-12-23</td>\n",
              "    </tr>\n",
              "    <tr>\n",
              "      <th>5</th>\n",
              "      <td>58</td>\n",
              "      <td>2017-02-03</td>\n",
              "    </tr>\n",
              "    <tr>\n",
              "      <th>...</th>\n",
              "      <td>...</td>\n",
              "      <td>...</td>\n",
              "    </tr>\n",
              "    <tr>\n",
              "      <th>96</th>\n",
              "      <td>39</td>\n",
              "      <td>2019-08-13</td>\n",
              "    </tr>\n",
              "    <tr>\n",
              "      <th>97</th>\n",
              "      <td>34</td>\n",
              "      <td>2019-11-22</td>\n",
              "    </tr>\n",
              "    <tr>\n",
              "      <th>98</th>\n",
              "      <td>35</td>\n",
              "      <td>2019-10-09</td>\n",
              "    </tr>\n",
              "    <tr>\n",
              "      <th>99</th>\n",
              "      <td>35</td>\n",
              "      <td>2019-10-09</td>\n",
              "    </tr>\n",
              "    <tr>\n",
              "      <th>100</th>\n",
              "      <td>34</td>\n",
              "      <td>2019-11-22</td>\n",
              "    </tr>\n",
              "  </tbody>\n",
              "</table>\n",
              "<p>100 rows × 2 columns</p>\n",
              "</div>"
            ],
            "text/plain": [
              "     max_emp    mindate\n",
              "id                     \n",
              "1         57 2015-04-10\n",
              "2         58 2017-02-03\n",
              "3         58 2017-02-03\n",
              "4         48 2013-12-23\n",
              "5         58 2017-02-03\n",
              "..       ...        ...\n",
              "96        39 2019-08-13\n",
              "97        34 2019-11-22\n",
              "98        35 2019-10-09\n",
              "99        35 2019-10-09\n",
              "100       34 2019-11-22\n",
              "\n",
              "[100 rows x 2 columns]"
            ]
          },
          "metadata": {
            "tags": []
          },
          "execution_count": 219
        }
      ]
    },
    {
      "cell_type": "code",
      "metadata": {
        "colab": {
          "base_uri": "https://localhost:8080/"
        },
        "id": "fzS8v8qU1Pn3",
        "outputId": "21df397b-7a0e-4fc8-aa93-63a34d0fb14b"
      },
      "source": [
        "#note the closed kwarg\n",
        "pd.date_range(start='1/1/2018', end='1/08/2018', closed='left')"
      ],
      "execution_count": null,
      "outputs": [
        {
          "output_type": "execute_result",
          "data": {
            "text/plain": [
              "DatetimeIndex(['2018-01-01', '2018-01-02', '2018-01-03', '2018-01-04',\n",
              "               '2018-01-05', '2018-01-06', '2018-01-07'],\n",
              "              dtype='datetime64[ns]', freq='D')"
            ]
          },
          "metadata": {
            "tags": []
          },
          "execution_count": 220
        }
      ]
    },
    {
      "cell_type": "markdown",
      "metadata": {
        "id": "t1QPL9n--MGt"
      },
      "source": [
        "# WFM Brand Segmentation based on Customer Activity"
      ]
    },
    {
      "cell_type": "markdown",
      "metadata": {
        "id": "hRRAwmJU-NmE"
      },
      "source": [
        "Whole Foods would like to segment their store brands into Low, Medium, and High segmentation. The segments are to be based on a customer's average basket size which is defined as (total sales / count of transactions), per customer.\n",
        "\n",
        "The segment thresholds are as follows:\n",
        "- If average basket size is more than 30, then Segment is “High”.\n",
        "- If average basket size is between 20 and 30, then Segment is “Medium”.\n",
        "- If average basket size is less than 20, then Segment is “Low”.\n",
        "\n",
        "Summarize the number of unique customers, the total number of transactions, total sales, and average basket size, grouped by store brand and segment for 2017."
      ]
    },
    {
      "cell_type": "code",
      "metadata": {
        "id": "lyAlLwvh-ZOT"
      },
      "source": [
        "wfm_trans = pd.read_excel('WFM.xlsx', parse_dates=True)\n",
        "wfm_stores = pd.read_excel('WFM.xlsx', sheet_name='Stores')"
      ],
      "execution_count": null,
      "outputs": []
    },
    {
      "cell_type": "code",
      "metadata": {
        "colab": {
          "base_uri": "https://localhost:8080/",
          "height": 202
        },
        "id": "oYCwc961B6S8",
        "outputId": "4c80807a-7c15-40d1-bcc2-7ddd485811cf"
      },
      "source": [
        "wfm_trans.head()"
      ],
      "execution_count": null,
      "outputs": [
        {
          "output_type": "execute_result",
          "data": {
            "text/html": [
              "<div>\n",
              "<style scoped>\n",
              "    .dataframe tbody tr th:only-of-type {\n",
              "        vertical-align: middle;\n",
              "    }\n",
              "\n",
              "    .dataframe tbody tr th {\n",
              "        vertical-align: top;\n",
              "    }\n",
              "\n",
              "    .dataframe thead th {\n",
              "        text-align: right;\n",
              "    }\n",
              "</style>\n",
              "<table border=\"1\" class=\"dataframe\">\n",
              "  <thead>\n",
              "    <tr style=\"text-align: right;\">\n",
              "      <th></th>\n",
              "      <th>customer_id</th>\n",
              "      <th>store_id</th>\n",
              "      <th>transaction_date</th>\n",
              "      <th>transaction_id</th>\n",
              "      <th>product_id</th>\n",
              "      <th>sales</th>\n",
              "    </tr>\n",
              "  </thead>\n",
              "  <tbody>\n",
              "    <tr>\n",
              "      <th>0</th>\n",
              "      <td>1</td>\n",
              "      <td>1</td>\n",
              "      <td>2017-01-06</td>\n",
              "      <td>1</td>\n",
              "      <td>101</td>\n",
              "      <td>13</td>\n",
              "    </tr>\n",
              "    <tr>\n",
              "      <th>1</th>\n",
              "      <td>1</td>\n",
              "      <td>1</td>\n",
              "      <td>2017-01-06</td>\n",
              "      <td>1</td>\n",
              "      <td>102</td>\n",
              "      <td>5</td>\n",
              "    </tr>\n",
              "    <tr>\n",
              "      <th>2</th>\n",
              "      <td>1</td>\n",
              "      <td>1</td>\n",
              "      <td>2017-01-06</td>\n",
              "      <td>1</td>\n",
              "      <td>103</td>\n",
              "      <td>1</td>\n",
              "    </tr>\n",
              "    <tr>\n",
              "      <th>3</th>\n",
              "      <td>2</td>\n",
              "      <td>4</td>\n",
              "      <td>2017-05-06</td>\n",
              "      <td>2</td>\n",
              "      <td>105</td>\n",
              "      <td>20</td>\n",
              "    </tr>\n",
              "    <tr>\n",
              "      <th>4</th>\n",
              "      <td>5</td>\n",
              "      <td>4</td>\n",
              "      <td>2017-05-06</td>\n",
              "      <td>5</td>\n",
              "      <td>104</td>\n",
              "      <td>12</td>\n",
              "    </tr>\n",
              "  </tbody>\n",
              "</table>\n",
              "</div>"
            ],
            "text/plain": [
              "   customer_id  store_id transaction_date  transaction_id  product_id  sales\n",
              "0            1         1       2017-01-06               1         101     13\n",
              "1            1         1       2017-01-06               1         102      5\n",
              "2            1         1       2017-01-06               1         103      1\n",
              "3            2         4       2017-05-06               2         105     20\n",
              "4            5         4       2017-05-06               5         104     12"
            ]
          },
          "metadata": {
            "tags": []
          },
          "execution_count": 120
        }
      ]
    },
    {
      "cell_type": "code",
      "metadata": {
        "colab": {
          "base_uri": "https://localhost:8080/",
          "height": 202
        },
        "id": "YvLX64Nl-8Qf",
        "outputId": "65d53e4e-6dc2-435b-e9b6-82aa1a511e8d"
      },
      "source": [
        "wfm_stores.head()"
      ],
      "execution_count": null,
      "outputs": [
        {
          "output_type": "execute_result",
          "data": {
            "text/html": [
              "<div>\n",
              "<style scoped>\n",
              "    .dataframe tbody tr th:only-of-type {\n",
              "        vertical-align: middle;\n",
              "    }\n",
              "\n",
              "    .dataframe tbody tr th {\n",
              "        vertical-align: top;\n",
              "    }\n",
              "\n",
              "    .dataframe thead th {\n",
              "        text-align: right;\n",
              "    }\n",
              "</style>\n",
              "<table border=\"1\" class=\"dataframe\">\n",
              "  <thead>\n",
              "    <tr style=\"text-align: right;\">\n",
              "      <th></th>\n",
              "      <th>store_id</th>\n",
              "      <th>store_brand</th>\n",
              "      <th>location</th>\n",
              "    </tr>\n",
              "  </thead>\n",
              "  <tbody>\n",
              "    <tr>\n",
              "      <th>0</th>\n",
              "      <td>1</td>\n",
              "      <td>Clapham Junction</td>\n",
              "      <td>London</td>\n",
              "    </tr>\n",
              "    <tr>\n",
              "      <th>1</th>\n",
              "      <td>2</td>\n",
              "      <td>Camden</td>\n",
              "      <td>London</td>\n",
              "    </tr>\n",
              "    <tr>\n",
              "      <th>2</th>\n",
              "      <td>3</td>\n",
              "      <td>Fulham</td>\n",
              "      <td>London</td>\n",
              "    </tr>\n",
              "    <tr>\n",
              "      <th>3</th>\n",
              "      <td>4</td>\n",
              "      <td>Kensington</td>\n",
              "      <td>London</td>\n",
              "    </tr>\n",
              "    <tr>\n",
              "      <th>4</th>\n",
              "      <td>5</td>\n",
              "      <td>Piccadilly Circus</td>\n",
              "      <td>London</td>\n",
              "    </tr>\n",
              "  </tbody>\n",
              "</table>\n",
              "</div>"
            ],
            "text/plain": [
              "   store_id        store_brand location\n",
              "0         1   Clapham Junction   London\n",
              "1         2             Camden   London\n",
              "2         3             Fulham   London\n",
              "3         4         Kensington   London\n",
              "4         5  Piccadilly Circus   London"
            ]
          },
          "metadata": {
            "tags": []
          },
          "execution_count": 121
        }
      ]
    },
    {
      "cell_type": "code",
      "metadata": {
        "colab": {
          "base_uri": "https://localhost:8080/",
          "height": 202
        },
        "id": "vmGpgkwJ_0_E",
        "outputId": "59496051-297e-443b-bcdf-ed99e02014a5"
      },
      "source": [
        "wfm_trans = wfm_trans[wfm_trans.transaction_date.dt.year==2017]\n",
        "wfm = pd.merge(wfm_trans , wfm_stores[['store_id','store_brand']])\n",
        "wfm.head()"
      ],
      "execution_count": null,
      "outputs": [
        {
          "output_type": "execute_result",
          "data": {
            "text/html": [
              "<div>\n",
              "<style scoped>\n",
              "    .dataframe tbody tr th:only-of-type {\n",
              "        vertical-align: middle;\n",
              "    }\n",
              "\n",
              "    .dataframe tbody tr th {\n",
              "        vertical-align: top;\n",
              "    }\n",
              "\n",
              "    .dataframe thead th {\n",
              "        text-align: right;\n",
              "    }\n",
              "</style>\n",
              "<table border=\"1\" class=\"dataframe\">\n",
              "  <thead>\n",
              "    <tr style=\"text-align: right;\">\n",
              "      <th></th>\n",
              "      <th>customer_id</th>\n",
              "      <th>store_id</th>\n",
              "      <th>transaction_date</th>\n",
              "      <th>transaction_id</th>\n",
              "      <th>product_id</th>\n",
              "      <th>sales</th>\n",
              "      <th>store_brand</th>\n",
              "    </tr>\n",
              "  </thead>\n",
              "  <tbody>\n",
              "    <tr>\n",
              "      <th>0</th>\n",
              "      <td>1</td>\n",
              "      <td>1</td>\n",
              "      <td>2017-01-06</td>\n",
              "      <td>1</td>\n",
              "      <td>101</td>\n",
              "      <td>13</td>\n",
              "      <td>Clapham Junction</td>\n",
              "    </tr>\n",
              "    <tr>\n",
              "      <th>1</th>\n",
              "      <td>1</td>\n",
              "      <td>1</td>\n",
              "      <td>2017-01-06</td>\n",
              "      <td>1</td>\n",
              "      <td>102</td>\n",
              "      <td>5</td>\n",
              "      <td>Clapham Junction</td>\n",
              "    </tr>\n",
              "    <tr>\n",
              "      <th>2</th>\n",
              "      <td>1</td>\n",
              "      <td>1</td>\n",
              "      <td>2017-01-06</td>\n",
              "      <td>1</td>\n",
              "      <td>103</td>\n",
              "      <td>1</td>\n",
              "      <td>Clapham Junction</td>\n",
              "    </tr>\n",
              "    <tr>\n",
              "      <th>3</th>\n",
              "      <td>1</td>\n",
              "      <td>1</td>\n",
              "      <td>2017-01-01</td>\n",
              "      <td>21</td>\n",
              "      <td>401</td>\n",
              "      <td>10</td>\n",
              "      <td>Clapham Junction</td>\n",
              "    </tr>\n",
              "    <tr>\n",
              "      <th>4</th>\n",
              "      <td>15</td>\n",
              "      <td>1</td>\n",
              "      <td>2017-05-06</td>\n",
              "      <td>109</td>\n",
              "      <td>506</td>\n",
              "      <td>70</td>\n",
              "      <td>Clapham Junction</td>\n",
              "    </tr>\n",
              "  </tbody>\n",
              "</table>\n",
              "</div>"
            ],
            "text/plain": [
              "   customer_id  store_id transaction_date  ...  product_id  sales       store_brand\n",
              "0            1         1       2017-01-06  ...         101     13  Clapham Junction\n",
              "1            1         1       2017-01-06  ...         102      5  Clapham Junction\n",
              "2            1         1       2017-01-06  ...         103      1  Clapham Junction\n",
              "3            1         1       2017-01-01  ...         401     10  Clapham Junction\n",
              "4           15         1       2017-05-06  ...         506     70  Clapham Junction\n",
              "\n",
              "[5 rows x 7 columns]"
            ]
          },
          "metadata": {
            "tags": []
          },
          "execution_count": 29
        }
      ]
    },
    {
      "cell_type": "code",
      "metadata": {
        "colab": {
          "base_uri": "https://localhost:8080/",
          "height": 631
        },
        "id": "r2Ch64oKUMXY",
        "outputId": "2e0945b8-ad9b-4176-f4b0-4080fabf05d8"
      },
      "source": [
        "def store_segmentation(store_brand):\n",
        "\n",
        "  #groupby customer to generate aggregations per customer\n",
        "  #total sales, total transactions per customer\n",
        "  customer = store_brand.groupby('customer_id').agg(cust_sales = ('sales', np.sum), cust_trans = ('transaction_id', 'nunique'))\n",
        "  #average basket size per customer based on above measures\n",
        "  customer['cust_avg_basket'] = customer['cust_sales'] / customer['cust_trans']\n",
        "  #customer segment based on their average basket_size\n",
        "  customer['segment'] =customer['cust_avg_basket'].apply(lambda x : 'High' if x >=30 else 'Medium' if x >=20 else 'Low')\n",
        "\n",
        "  #group the above table by segment to generate measures by segment\n",
        "  segment = customer.groupby('segment').agg(number_customers=('segment', 'size'), total_transactions = ('cust_trans', np.sum), total_sales = ('cust_sales', np.sum))\n",
        "  segment['segment_avg_basket'] = segment['total_sales'] / segment['total_transactions']\n",
        "  return segment\n",
        "\n",
        "wfm.groupby('store_brand').apply(store_segmentation)"
      ],
      "execution_count": null,
      "outputs": [
        {
          "output_type": "execute_result",
          "data": {
            "text/html": [
              "<div>\n",
              "<style scoped>\n",
              "    .dataframe tbody tr th:only-of-type {\n",
              "        vertical-align: middle;\n",
              "    }\n",
              "\n",
              "    .dataframe tbody tr th {\n",
              "        vertical-align: top;\n",
              "    }\n",
              "\n",
              "    .dataframe thead th {\n",
              "        text-align: right;\n",
              "    }\n",
              "</style>\n",
              "<table border=\"1\" class=\"dataframe\">\n",
              "  <thead>\n",
              "    <tr style=\"text-align: right;\">\n",
              "      <th></th>\n",
              "      <th></th>\n",
              "      <th>number_customers</th>\n",
              "      <th>total_transactions</th>\n",
              "      <th>total_sales</th>\n",
              "      <th>segment_avg_basket</th>\n",
              "    </tr>\n",
              "    <tr>\n",
              "      <th>store_brand</th>\n",
              "      <th>segment</th>\n",
              "      <th></th>\n",
              "      <th></th>\n",
              "      <th></th>\n",
              "      <th></th>\n",
              "    </tr>\n",
              "  </thead>\n",
              "  <tbody>\n",
              "    <tr>\n",
              "      <th rowspan=\"2\" valign=\"top\">365 by WFM</th>\n",
              "      <th>High</th>\n",
              "      <td>21</td>\n",
              "      <td>50</td>\n",
              "      <td>16883</td>\n",
              "      <td>337.660000</td>\n",
              "    </tr>\n",
              "    <tr>\n",
              "      <th>Low</th>\n",
              "      <td>2</td>\n",
              "      <td>3</td>\n",
              "      <td>44</td>\n",
              "      <td>14.666667</td>\n",
              "    </tr>\n",
              "    <tr>\n",
              "      <th rowspan=\"3\" valign=\"top\">Camden</th>\n",
              "      <th>High</th>\n",
              "      <td>9</td>\n",
              "      <td>17</td>\n",
              "      <td>4570</td>\n",
              "      <td>268.823529</td>\n",
              "    </tr>\n",
              "    <tr>\n",
              "      <th>Low</th>\n",
              "      <td>1</td>\n",
              "      <td>1</td>\n",
              "      <td>16</td>\n",
              "      <td>16.000000</td>\n",
              "    </tr>\n",
              "    <tr>\n",
              "      <th>Medium</th>\n",
              "      <td>1</td>\n",
              "      <td>2</td>\n",
              "      <td>59</td>\n",
              "      <td>29.500000</td>\n",
              "    </tr>\n",
              "    <tr>\n",
              "      <th rowspan=\"2\" valign=\"top\">Clapham Junction</th>\n",
              "      <th>High</th>\n",
              "      <td>19</td>\n",
              "      <td>41</td>\n",
              "      <td>8823</td>\n",
              "      <td>215.195122</td>\n",
              "    </tr>\n",
              "    <tr>\n",
              "      <th>Low</th>\n",
              "      <td>1</td>\n",
              "      <td>1</td>\n",
              "      <td>10</td>\n",
              "      <td>10.000000</td>\n",
              "    </tr>\n",
              "    <tr>\n",
              "      <th rowspan=\"2\" valign=\"top\">Fulham</th>\n",
              "      <th>High</th>\n",
              "      <td>14</td>\n",
              "      <td>24</td>\n",
              "      <td>6667</td>\n",
              "      <td>277.791667</td>\n",
              "    </tr>\n",
              "    <tr>\n",
              "      <th>Low</th>\n",
              "      <td>1</td>\n",
              "      <td>1</td>\n",
              "      <td>15</td>\n",
              "      <td>15.000000</td>\n",
              "    </tr>\n",
              "    <tr>\n",
              "      <th rowspan=\"3\" valign=\"top\">Kensington</th>\n",
              "      <th>High</th>\n",
              "      <td>5</td>\n",
              "      <td>7</td>\n",
              "      <td>1900</td>\n",
              "      <td>271.428571</td>\n",
              "    </tr>\n",
              "    <tr>\n",
              "      <th>Low</th>\n",
              "      <td>1</td>\n",
              "      <td>1</td>\n",
              "      <td>12</td>\n",
              "      <td>12.000000</td>\n",
              "    </tr>\n",
              "    <tr>\n",
              "      <th>Medium</th>\n",
              "      <td>1</td>\n",
              "      <td>1</td>\n",
              "      <td>20</td>\n",
              "      <td>20.000000</td>\n",
              "    </tr>\n",
              "    <tr>\n",
              "      <th rowspan=\"2\" valign=\"top\">Piccadilly Circus</th>\n",
              "      <th>High</th>\n",
              "      <td>2</td>\n",
              "      <td>2</td>\n",
              "      <td>638</td>\n",
              "      <td>319.000000</td>\n",
              "    </tr>\n",
              "    <tr>\n",
              "      <th>Medium</th>\n",
              "      <td>1</td>\n",
              "      <td>2</td>\n",
              "      <td>41</td>\n",
              "      <td>20.500000</td>\n",
              "    </tr>\n",
              "    <tr>\n",
              "      <th>Richmond</th>\n",
              "      <th>High</th>\n",
              "      <td>3</td>\n",
              "      <td>4</td>\n",
              "      <td>2620</td>\n",
              "      <td>655.000000</td>\n",
              "    </tr>\n",
              "    <tr>\n",
              "      <th>Stoke Newington</th>\n",
              "      <th>High</th>\n",
              "      <td>2</td>\n",
              "      <td>3</td>\n",
              "      <td>973</td>\n",
              "      <td>324.333333</td>\n",
              "    </tr>\n",
              "    <tr>\n",
              "      <th rowspan=\"2\" valign=\"top\">Whole Foods Market Daily Shop</th>\n",
              "      <th>High</th>\n",
              "      <td>12</td>\n",
              "      <td>26</td>\n",
              "      <td>7776</td>\n",
              "      <td>299.076923</td>\n",
              "    </tr>\n",
              "    <tr>\n",
              "      <th>Low</th>\n",
              "      <td>1</td>\n",
              "      <td>2</td>\n",
              "      <td>14</td>\n",
              "      <td>7.000000</td>\n",
              "    </tr>\n",
              "  </tbody>\n",
              "</table>\n",
              "</div>"
            ],
            "text/plain": [
              "                                       number_customers  ...  segment_avg_basket\n",
              "store_brand                   segment                    ...                    \n",
              "365 by WFM                    High                   21  ...          337.660000\n",
              "                              Low                     2  ...           14.666667\n",
              "Camden                        High                    9  ...          268.823529\n",
              "                              Low                     1  ...           16.000000\n",
              "                              Medium                  1  ...           29.500000\n",
              "Clapham Junction              High                   19  ...          215.195122\n",
              "                              Low                     1  ...           10.000000\n",
              "Fulham                        High                   14  ...          277.791667\n",
              "                              Low                     1  ...           15.000000\n",
              "Kensington                    High                    5  ...          271.428571\n",
              "                              Low                     1  ...           12.000000\n",
              "                              Medium                  1  ...           20.000000\n",
              "Piccadilly Circus             High                    2  ...          319.000000\n",
              "                              Medium                  1  ...           20.500000\n",
              "Richmond                      High                    3  ...          655.000000\n",
              "Stoke Newington               High                    2  ...          324.333333\n",
              "Whole Foods Market Daily Shop High                   12  ...          299.076923\n",
              "                              Low                     1  ...            7.000000\n",
              "\n",
              "[18 rows x 4 columns]"
            ]
          },
          "metadata": {
            "tags": []
          },
          "execution_count": 157
        }
      ]
    },
    {
      "cell_type": "code",
      "metadata": {
        "colab": {
          "base_uri": "https://localhost:8080/",
          "height": 631
        },
        "id": "6IiRKnZ9fQyR",
        "outputId": "cb7aa452-3afb-4064-b603-6271ee96c472"
      },
      "source": [
        "wfm.groupby(['store_brand', 'customer_id'])\\\n",
        ".agg(cust_sales = ('sales', np.sum), cust_trans = ('transaction_id', 'nunique'))\\\n",
        ".assign(cust_avg_basket = lambda x : x['cust_sales']/x['cust_trans'])\\\n",
        ".assign(segment = lambda x : x['cust_avg_basket'].transform(lambda x : 'High' if x >=30 else 'Medium' if x >=20 else 'Low'))\\\n",
        ".reset_index()\\\n",
        ".groupby(['store_brand', 'segment'])\\\n",
        ".agg(number_customers = ('customer_id', 'count'),total_transactions = ('cust_trans', 'sum'), total_sales = ('cust_sales', 'sum'))\\\n",
        ".assign(avg_basket = lambda x : x['total_sales'] / x['total_transactions'])"
      ],
      "execution_count": null,
      "outputs": [
        {
          "output_type": "execute_result",
          "data": {
            "text/html": [
              "<div>\n",
              "<style scoped>\n",
              "    .dataframe tbody tr th:only-of-type {\n",
              "        vertical-align: middle;\n",
              "    }\n",
              "\n",
              "    .dataframe tbody tr th {\n",
              "        vertical-align: top;\n",
              "    }\n",
              "\n",
              "    .dataframe thead th {\n",
              "        text-align: right;\n",
              "    }\n",
              "</style>\n",
              "<table border=\"1\" class=\"dataframe\">\n",
              "  <thead>\n",
              "    <tr style=\"text-align: right;\">\n",
              "      <th></th>\n",
              "      <th></th>\n",
              "      <th>number_customers</th>\n",
              "      <th>total_transactions</th>\n",
              "      <th>total_sales</th>\n",
              "      <th>avg_basket</th>\n",
              "    </tr>\n",
              "    <tr>\n",
              "      <th>store_brand</th>\n",
              "      <th>segment</th>\n",
              "      <th></th>\n",
              "      <th></th>\n",
              "      <th></th>\n",
              "      <th></th>\n",
              "    </tr>\n",
              "  </thead>\n",
              "  <tbody>\n",
              "    <tr>\n",
              "      <th rowspan=\"2\" valign=\"top\">365 by WFM</th>\n",
              "      <th>High</th>\n",
              "      <td>21</td>\n",
              "      <td>50</td>\n",
              "      <td>16883</td>\n",
              "      <td>337.660000</td>\n",
              "    </tr>\n",
              "    <tr>\n",
              "      <th>Low</th>\n",
              "      <td>2</td>\n",
              "      <td>3</td>\n",
              "      <td>44</td>\n",
              "      <td>14.666667</td>\n",
              "    </tr>\n",
              "    <tr>\n",
              "      <th rowspan=\"3\" valign=\"top\">Camden</th>\n",
              "      <th>High</th>\n",
              "      <td>9</td>\n",
              "      <td>17</td>\n",
              "      <td>4570</td>\n",
              "      <td>268.823529</td>\n",
              "    </tr>\n",
              "    <tr>\n",
              "      <th>Low</th>\n",
              "      <td>1</td>\n",
              "      <td>1</td>\n",
              "      <td>16</td>\n",
              "      <td>16.000000</td>\n",
              "    </tr>\n",
              "    <tr>\n",
              "      <th>Medium</th>\n",
              "      <td>1</td>\n",
              "      <td>2</td>\n",
              "      <td>59</td>\n",
              "      <td>29.500000</td>\n",
              "    </tr>\n",
              "    <tr>\n",
              "      <th rowspan=\"2\" valign=\"top\">Clapham Junction</th>\n",
              "      <th>High</th>\n",
              "      <td>19</td>\n",
              "      <td>41</td>\n",
              "      <td>8823</td>\n",
              "      <td>215.195122</td>\n",
              "    </tr>\n",
              "    <tr>\n",
              "      <th>Low</th>\n",
              "      <td>1</td>\n",
              "      <td>1</td>\n",
              "      <td>10</td>\n",
              "      <td>10.000000</td>\n",
              "    </tr>\n",
              "    <tr>\n",
              "      <th rowspan=\"2\" valign=\"top\">Fulham</th>\n",
              "      <th>High</th>\n",
              "      <td>14</td>\n",
              "      <td>24</td>\n",
              "      <td>6667</td>\n",
              "      <td>277.791667</td>\n",
              "    </tr>\n",
              "    <tr>\n",
              "      <th>Low</th>\n",
              "      <td>1</td>\n",
              "      <td>1</td>\n",
              "      <td>15</td>\n",
              "      <td>15.000000</td>\n",
              "    </tr>\n",
              "    <tr>\n",
              "      <th rowspan=\"3\" valign=\"top\">Kensington</th>\n",
              "      <th>High</th>\n",
              "      <td>5</td>\n",
              "      <td>7</td>\n",
              "      <td>1900</td>\n",
              "      <td>271.428571</td>\n",
              "    </tr>\n",
              "    <tr>\n",
              "      <th>Low</th>\n",
              "      <td>1</td>\n",
              "      <td>1</td>\n",
              "      <td>12</td>\n",
              "      <td>12.000000</td>\n",
              "    </tr>\n",
              "    <tr>\n",
              "      <th>Medium</th>\n",
              "      <td>1</td>\n",
              "      <td>1</td>\n",
              "      <td>20</td>\n",
              "      <td>20.000000</td>\n",
              "    </tr>\n",
              "    <tr>\n",
              "      <th rowspan=\"2\" valign=\"top\">Piccadilly Circus</th>\n",
              "      <th>High</th>\n",
              "      <td>2</td>\n",
              "      <td>2</td>\n",
              "      <td>638</td>\n",
              "      <td>319.000000</td>\n",
              "    </tr>\n",
              "    <tr>\n",
              "      <th>Medium</th>\n",
              "      <td>1</td>\n",
              "      <td>2</td>\n",
              "      <td>41</td>\n",
              "      <td>20.500000</td>\n",
              "    </tr>\n",
              "    <tr>\n",
              "      <th>Richmond</th>\n",
              "      <th>High</th>\n",
              "      <td>3</td>\n",
              "      <td>4</td>\n",
              "      <td>2620</td>\n",
              "      <td>655.000000</td>\n",
              "    </tr>\n",
              "    <tr>\n",
              "      <th>Stoke Newington</th>\n",
              "      <th>High</th>\n",
              "      <td>2</td>\n",
              "      <td>3</td>\n",
              "      <td>973</td>\n",
              "      <td>324.333333</td>\n",
              "    </tr>\n",
              "    <tr>\n",
              "      <th rowspan=\"2\" valign=\"top\">Whole Foods Market Daily Shop</th>\n",
              "      <th>High</th>\n",
              "      <td>12</td>\n",
              "      <td>26</td>\n",
              "      <td>7776</td>\n",
              "      <td>299.076923</td>\n",
              "    </tr>\n",
              "    <tr>\n",
              "      <th>Low</th>\n",
              "      <td>1</td>\n",
              "      <td>2</td>\n",
              "      <td>14</td>\n",
              "      <td>7.000000</td>\n",
              "    </tr>\n",
              "  </tbody>\n",
              "</table>\n",
              "</div>"
            ],
            "text/plain": [
              "                                       number_customers  ...  avg_basket\n",
              "store_brand                   segment                    ...            \n",
              "365 by WFM                    High                   21  ...  337.660000\n",
              "                              Low                     2  ...   14.666667\n",
              "Camden                        High                    9  ...  268.823529\n",
              "                              Low                     1  ...   16.000000\n",
              "                              Medium                  1  ...   29.500000\n",
              "Clapham Junction              High                   19  ...  215.195122\n",
              "                              Low                     1  ...   10.000000\n",
              "Fulham                        High                   14  ...  277.791667\n",
              "                              Low                     1  ...   15.000000\n",
              "Kensington                    High                    5  ...  271.428571\n",
              "                              Low                     1  ...   12.000000\n",
              "                              Medium                  1  ...   20.000000\n",
              "Piccadilly Circus             High                    2  ...  319.000000\n",
              "                              Medium                  1  ...   20.500000\n",
              "Richmond                      High                    3  ...  655.000000\n",
              "Stoke Newington               High                    2  ...  324.333333\n",
              "Whole Foods Market Daily Shop High                   12  ...  299.076923\n",
              "                              Low                     1  ...    7.000000\n",
              "\n",
              "[18 rows x 4 columns]"
            ]
          },
          "metadata": {
            "tags": []
          },
          "execution_count": 158
        }
      ]
    },
    {
      "cell_type": "markdown",
      "metadata": {
        "id": "U8woaMBWAh0Y"
      },
      "source": [
        "# New Section"
      ]
    }
  ]
}
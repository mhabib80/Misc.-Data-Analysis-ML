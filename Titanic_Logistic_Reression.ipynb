{
  "nbformat": 4,
  "nbformat_minor": 0,
  "metadata": {
    "colab": {
      "name": "Titanic_Logistic_Reression.ipynb",
      "provenance": [],
      "collapsed_sections": [
        "XWfE0WPUM6xF",
        "vFd1qoHeNE6R"
      ],
      "toc_visible": true,
      "mount_file_id": "1INyZb4i9r6VJTtXpnq6pX_PrE7-yRqvJ",
      "authorship_tag": "ABX9TyMLWCzDRFQsxVdCjUpoSdZb",
      "include_colab_link": true
    },
    "kernelspec": {
      "name": "python3",
      "display_name": "Python 3"
    }
  },
  "cells": [
    {
      "cell_type": "markdown",
      "metadata": {
        "id": "view-in-github",
        "colab_type": "text"
      },
      "source": [
        "<a href=\"https://colab.research.google.com/github/mhabib80/Sample-Projects/blob/master/Titanic_Logistic_Reression.ipynb\" target=\"_parent\"><img src=\"https://colab.research.google.com/assets/colab-badge.svg\" alt=\"Open In Colab\"/></a>"
      ]
    },
    {
      "cell_type": "code",
      "metadata": {
        "id": "b7mH8-RwV3mS"
      },
      "source": [
        "import pandas as pd\n",
        "import numpy as np\n",
        "import matplotlib.pyplot as plt\n",
        "%matplotlib inline\n",
        "import seaborn as sns"
      ],
      "execution_count": null,
      "outputs": []
    },
    {
      "cell_type": "code",
      "metadata": {
        "id": "IJ1q2cZFTO7X"
      },
      "source": [
        "train = pd.read_csv('/content/drive/My Drive/Data Science/CodeAcademy/titanic/train.csv')\n",
        "test = pd.read_csv('/content/drive/My Drive/Data Science/CodeAcademy/titanic/test.csv')"
      ],
      "execution_count": null,
      "outputs": []
    },
    {
      "cell_type": "code",
      "metadata": {
        "id": "NJDD5jQNI8ya"
      },
      "source": [
        "# Feature sex\n",
        "train['Female?'] = np.where(train.Sex == 'female', 1, 0) #convert Sex to 1,0"
      ],
      "execution_count": null,
      "outputs": []
    },
    {
      "cell_type": "code",
      "metadata": {
        "id": "vjrrAD91I81N"
      },
      "source": [
        "# Feature Age\n",
        "train['Age'].fillna(train.Age.mean(), inplace=True) #missing Age values\n",
        "\n",
        "# #normalize age values\n",
        "# age = np.asarray(train.Age).reshape(-1, 1)\n",
        "# age_n = preprocessing.StandardScaler().fit_transform(age)\n",
        "# train['age_n'] = age_n"
      ],
      "execution_count": null,
      "outputs": []
    },
    {
      "cell_type": "code",
      "metadata": {
        "id": "0D2GgivIVE2I"
      },
      "source": [
        "# Feature PClass one-hot encoding\n",
        "train = pd.concat([train, pd.get_dummies(train['Pclass'].values, prefix='Class', prefix_sep='_')], axis=1)"
      ],
      "execution_count": null,
      "outputs": []
    },
    {
      "cell_type": "code",
      "metadata": {
        "id": "BECNXTh_Oi6b"
      },
      "source": [
        "x = np.asarray(train[['Age', 'Female?', 'Class_1', 'Class_2', 'Class_3']]) #Female, age and class only\n",
        "y = np.asarray(train['Survived']) #Target Variable\n",
        "\n",
        "from sklearn import preprocessing\n",
        "x = preprocessing.StandardScaler().fit_transform(x)"
      ],
      "execution_count": null,
      "outputs": []
    },
    {
      "cell_type": "code",
      "metadata": {
        "id": "0ZVFrtXWFRBc"
      },
      "source": [
        "from sklearn.model_selection import train_test_split\n",
        "x_train, x_test, y_train, y_test = train_test_split(x, y, test_size=0.2, random_state=1)"
      ],
      "execution_count": null,
      "outputs": []
    },
    {
      "cell_type": "code",
      "metadata": {
        "id": "9OeGED45Pumb"
      },
      "source": [
        "from sklearn.linear_model import LogisticRegression\n",
        "lr = LogisticRegression()\n",
        "lr.fit(x_train, y_train)\n",
        "y_hat = lr.predict(x_test)"
      ],
      "execution_count": null,
      "outputs": []
    },
    {
      "cell_type": "code",
      "metadata": {
        "id": "BB50sSI_Z9XI",
        "colab": {
          "base_uri": "https://localhost:8080/"
        },
        "outputId": "4e9df51e-43f6-48f6-80dd-327a0be71d9b"
      },
      "source": [
        "print('Training data score=', lr.score(x_train, y_train), '\\nTesting Data Score = ', lr.score(x_test, y_test) , '\\nCoefficients =', lr.coef_)"
      ],
      "execution_count": null,
      "outputs": [
        {
          "output_type": "stream",
          "text": [
            "Training data score= 0.797752808988764 \n",
            "Testing Data Score =  0.8044692737430168 \n",
            "Coefficients = [[-0.45104207  1.25507711  0.55286643  0.10075806 -0.55835488]]\n"
          ],
          "name": "stdout"
        }
      ]
    },
    {
      "cell_type": "code",
      "metadata": {
        "id": "9VrLrwW6X7B0",
        "colab": {
          "base_uri": "https://localhost:8080/"
        },
        "outputId": "cd71ab8e-ac9a-4f0e-e80e-1b55230c5f14"
      },
      "source": [
        "from sklearn import metrics\n",
        "cm = metrics.confusion_matrix(y_test, y_hat)\n",
        "cm"
      ],
      "execution_count": null,
      "outputs": [
        {
          "output_type": "execute_result",
          "data": {
            "text/plain": [
              "array([[92, 14],\n",
              "       [21, 52]])"
            ]
          },
          "metadata": {
            "tags": []
          },
          "execution_count": 12
        }
      ]
    },
    {
      "cell_type": "code",
      "metadata": {
        "id": "zPRAUYCvYIqF",
        "colab": {
          "base_uri": "https://localhost:8080/",
          "height": 264
        },
        "outputId": "118bef90-c869-4358-9019-d4db063d0f47"
      },
      "source": [
        "sns.heatmap(cm, cmap = 'rocket_r' ,annot=True);"
      ],
      "execution_count": null,
      "outputs": [
        {
          "output_type": "display_data",
          "data": {
            "image/png": "[encoded data removed]",
            "text/plain": [
              "<Figure size 432x288 with 2 Axes>"
            ]
          },
          "metadata": {
            "tags": [],
            "needs_background": "light"
          }
        }
      ]
    },
    {
      "cell_type": "code",
      "metadata": {
        "id": "HjdniHATZGPy",
        "colab": {
          "base_uri": "https://localhost:8080/"
        },
        "outputId": "68490ef1-fbf3-4bd2-f543-dd6ddda7dd98"
      },
      "source": [
        "print(metrics.classification_report(y_test, y_hat))"
      ],
      "execution_count": null,
      "outputs": [
        {
          "output_type": "stream",
          "text": [
            "              precision    recall  f1-score   support\n",
            "\n",
            "           0       0.81      0.87      0.84       106\n",
            "           1       0.79      0.71      0.75        73\n",
            "\n",
            "    accuracy                           0.80       179\n",
            "   macro avg       0.80      0.79      0.79       179\n",
            "weighted avg       0.80      0.80      0.80       179\n",
            "\n"
          ],
          "name": "stdout"
        }
      ]
    },
    {
      "cell_type": "code",
      "metadata": {
        "id": "dsjyyMqQZTWh",
        "colab": {
          "base_uri": "https://localhost:8080/"
        },
        "outputId": "e7c24b9a-6196-4815-d5ac-9ec7253f4978"
      },
      "source": [
        "# Predicting sample cases\n",
        "JR = np.array([[20, 0, 0, 0, 1], [17, 1, 1, 0, 0]])\n",
        "JR = preprocessing.StandardScaler().fit_transform(JR)\n",
        "lr.predict(JR), lr.predict_proba(JR)"
      ],
      "execution_count": null,
      "outputs": [
        {
          "output_type": "execute_result",
          "data": {
            "text/plain": [
              "(array([0, 1]), array([[0.97095298, 0.02904702],\n",
              "        [0.1066602 , 0.8933398 ]]))"
            ]
          },
          "metadata": {
            "tags": []
          },
          "execution_count": 15
        }
      ]
    },
    {
      "cell_type": "code",
      "metadata": {
        "colab": {
          "base_uri": "https://localhost:8080/"
        },
        "id": "cUNEgxycj6fK",
        "outputId": "9861596e-6798-462f-9453-d41072e59395"
      },
      "source": [
        "#Using Logistic regression with Cross Validation\n",
        "from sklearn.linear_model import LogisticRegressionCV\n",
        "lr_CV = LogisticRegressionCV(10)\n",
        "lr_CV.fit(x_train, y_train)\n",
        "y_cv_hat = lr_CV.predict(x_test)\n",
        "print('Training data score=', lr_CV.score(x_train, y_train), '\\nTesting Data Score = ', lr_CV.score(x_test, y_test) , '\\nCoefficients =', lr_CV.coef_)"
      ],
      "execution_count": null,
      "outputs": [
        {
          "output_type": "stream",
          "text": [
            "Training data score= 0.7991573033707865 \n",
            "Testing Data Score =  0.7821229050279329 \n",
            "Coefficients = [[-0.32771963  1.03377736  0.44169667  0.09363123 -0.45677028]]\n"
          ],
          "name": "stdout"
        }
      ]
    },
    {
      "cell_type": "code",
      "metadata": {
        "colab": {
          "base_uri": "https://localhost:8080/"
        },
        "id": "gZ95RLGAj6b8",
        "outputId": "191f3a49-708d-4480-be84-ea71d9a70b94"
      },
      "source": [
        "#Alternativel to do cross validation by hand:\n",
        "from sklearn.model_selection import cross_val_score\n",
        "model = LogisticRegression()\n",
        "scores=cross_val_score(model, x_train, y_train, cv=4)#to cross_validate the model with four non-overlapping splits of the training data\n",
        "scores"
      ],
      "execution_count": null,
      "outputs": [
        {
          "output_type": "execute_result",
          "data": {
            "text/plain": [
              "array([0.76966292, 0.78089888, 0.79213483, 0.80337079])"
            ]
          },
          "metadata": {
            "tags": []
          },
          "execution_count": 30
        }
      ]
    }
  ]
}